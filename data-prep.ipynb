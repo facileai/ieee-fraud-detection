{
 "cells": [
  {
   "cell_type": "markdown",
   "id": "87a41b94-0fc6-4ba9-941f-13a202210ab7",
   "metadata": {},
   "source": [
    "# Load packages that we will need"
   ]
  },
  {
   "cell_type": "code",
   "execution_count": 1,
   "id": "a37c4879-9829-4a22-9c06-30693680a110",
   "metadata": {},
   "outputs": [],
   "source": [
    "import os\n",
    "os.environ['KMP_DUPLICATE_LIB_OK']='True'\n",
    "import warnings\n",
    "warnings.filterwarnings('ignore')\n",
    "import pandas as pd\n",
    "import numpy as np \n",
    "import matplotlib.pyplot as plt\n",
    "import seaborn as sns\n",
    "from sklearn.model_selection import StratifiedShuffleSplit\n",
    "import json"
   ]
  },
  {
   "cell_type": "markdown",
   "id": "a068f5ba-b44e-4065-b572-d1efc9f8fdf1",
   "metadata": {},
   "source": [
    "# Categorical columns\n",
    "The organisers of the competition provided columns that are categorical. let's make a list containing those columns and map them to str type when loading pandas dataset"
   ]
  },
  {
   "cell_type": "code",
   "execution_count": 2,
   "id": "1597a20f-819b-4b29-8509-c92f898953e1",
   "metadata": {},
   "outputs": [],
   "source": [
    "def create_col_name(base_str, start_int, end_int):\n",
    "    return [f'{base_str}{i}' for i in range(start_int, end_int+1)]"
   ]
  },
  {
   "cell_type": "code",
   "execution_count": 3,
   "id": "9c59cf57-5d76-40e0-b5a8-40b387c259ab",
   "metadata": {},
   "outputs": [],
   "source": [
    "cat_cols = (['ProductCD'] + create_col_name('card', 1, 6) + ['addr1', 'addr2', 'P_emaildomain', 'R_emaildomain'] + \n",
    "            create_col_name('M', 1, 9) + ['DeviceType', 'DeviceInfo'] + create_col_name('id_', 12, 38))\n",
    "\n",
    "id_cols = ['TransactionID']\n",
    "\n",
    "dep_var = 'isFraud'"
   ]
  },
  {
   "cell_type": "code",
   "execution_count": 4,
   "id": "3b2d3247-5a49-4bc5-955a-43690936263a",
   "metadata": {},
   "outputs": [],
   "source": [
    "type_map = {c: str for c in cat_cols + id_cols}"
   ]
  },
  {
   "cell_type": "code",
   "execution_count": 5,
   "id": "d71532a8-31bb-49de-8642-e870f609b4b3",
   "metadata": {},
   "outputs": [],
   "source": [
    "table_names = ['train_identity', 'train_transaction', 'test_identity', 'test_transaction']\n",
    "tables = [pd.read_csv(f'data/{fname}.csv', dtype=type_map, low_memory=False) for fname in table_names]\n",
    "df_train_id, df_train_trans, df_test_id, df_test_trans = tables"
   ]
  },
  {
   "cell_type": "code",
   "execution_count": 6,
   "id": "99ead42b-c373-4642-bf90-5f1ad19b733a",
   "metadata": {},
   "outputs": [
    {
     "data": {
      "text/plain": [
       "((144233, 41), (590540, 394), (141907, 41), (506691, 393))"
      ]
     },
     "execution_count": 6,
     "metadata": {},
     "output_type": "execute_result"
    }
   ],
   "source": [
    "df_train_id.shape, df_train_trans.shape, df_test_id.shape, df_test_trans.shape"
   ]
  },
  {
   "cell_type": "code",
   "execution_count": 7,
   "id": "94df63be-f39d-4e73-a3d4-b33217bb0258",
   "metadata": {},
   "outputs": [
    {
     "data": {
      "text/html": [
       "<div>\n",
       "<style scoped>\n",
       "    .dataframe tbody tr th:only-of-type {\n",
       "        vertical-align: middle;\n",
       "    }\n",
       "\n",
       "    .dataframe tbody tr th {\n",
       "        vertical-align: top;\n",
       "    }\n",
       "\n",
       "    .dataframe thead th {\n",
       "        text-align: right;\n",
       "    }\n",
       "</style>\n",
       "<table border=\"1\" class=\"dataframe\">\n",
       "  <thead>\n",
       "    <tr style=\"text-align: right;\">\n",
       "      <th></th>\n",
       "      <th>TransactionID</th>\n",
       "      <th>id_01</th>\n",
       "      <th>id_02</th>\n",
       "      <th>id_03</th>\n",
       "      <th>id_04</th>\n",
       "      <th>id_05</th>\n",
       "      <th>id_06</th>\n",
       "      <th>id_07</th>\n",
       "      <th>id_08</th>\n",
       "      <th>id_09</th>\n",
       "      <th>...</th>\n",
       "      <th>id_31</th>\n",
       "      <th>id_32</th>\n",
       "      <th>id_33</th>\n",
       "      <th>id_34</th>\n",
       "      <th>id_35</th>\n",
       "      <th>id_36</th>\n",
       "      <th>id_37</th>\n",
       "      <th>id_38</th>\n",
       "      <th>DeviceType</th>\n",
       "      <th>DeviceInfo</th>\n",
       "    </tr>\n",
       "  </thead>\n",
       "  <tbody>\n",
       "    <tr>\n",
       "      <th>0</th>\n",
       "      <td>2987004</td>\n",
       "      <td>0.0</td>\n",
       "      <td>70787.0</td>\n",
       "      <td>NaN</td>\n",
       "      <td>NaN</td>\n",
       "      <td>NaN</td>\n",
       "      <td>NaN</td>\n",
       "      <td>NaN</td>\n",
       "      <td>NaN</td>\n",
       "      <td>NaN</td>\n",
       "      <td>...</td>\n",
       "      <td>samsung browser 6.2</td>\n",
       "      <td>32.0</td>\n",
       "      <td>2220x1080</td>\n",
       "      <td>match_status:2</td>\n",
       "      <td>T</td>\n",
       "      <td>F</td>\n",
       "      <td>T</td>\n",
       "      <td>T</td>\n",
       "      <td>mobile</td>\n",
       "      <td>SAMSUNG SM-G892A Build/NRD90M</td>\n",
       "    </tr>\n",
       "    <tr>\n",
       "      <th>1</th>\n",
       "      <td>2987008</td>\n",
       "      <td>-5.0</td>\n",
       "      <td>98945.0</td>\n",
       "      <td>NaN</td>\n",
       "      <td>NaN</td>\n",
       "      <td>0.0</td>\n",
       "      <td>-5.0</td>\n",
       "      <td>NaN</td>\n",
       "      <td>NaN</td>\n",
       "      <td>NaN</td>\n",
       "      <td>...</td>\n",
       "      <td>mobile safari 11.0</td>\n",
       "      <td>32.0</td>\n",
       "      <td>1334x750</td>\n",
       "      <td>match_status:1</td>\n",
       "      <td>T</td>\n",
       "      <td>F</td>\n",
       "      <td>F</td>\n",
       "      <td>T</td>\n",
       "      <td>mobile</td>\n",
       "      <td>iOS Device</td>\n",
       "    </tr>\n",
       "    <tr>\n",
       "      <th>2</th>\n",
       "      <td>2987010</td>\n",
       "      <td>-5.0</td>\n",
       "      <td>191631.0</td>\n",
       "      <td>0.0</td>\n",
       "      <td>0.0</td>\n",
       "      <td>0.0</td>\n",
       "      <td>0.0</td>\n",
       "      <td>NaN</td>\n",
       "      <td>NaN</td>\n",
       "      <td>0.0</td>\n",
       "      <td>...</td>\n",
       "      <td>chrome 62.0</td>\n",
       "      <td>NaN</td>\n",
       "      <td>NaN</td>\n",
       "      <td>NaN</td>\n",
       "      <td>F</td>\n",
       "      <td>F</td>\n",
       "      <td>T</td>\n",
       "      <td>T</td>\n",
       "      <td>desktop</td>\n",
       "      <td>Windows</td>\n",
       "    </tr>\n",
       "    <tr>\n",
       "      <th>3</th>\n",
       "      <td>2987011</td>\n",
       "      <td>-5.0</td>\n",
       "      <td>221832.0</td>\n",
       "      <td>NaN</td>\n",
       "      <td>NaN</td>\n",
       "      <td>0.0</td>\n",
       "      <td>-6.0</td>\n",
       "      <td>NaN</td>\n",
       "      <td>NaN</td>\n",
       "      <td>NaN</td>\n",
       "      <td>...</td>\n",
       "      <td>chrome 62.0</td>\n",
       "      <td>NaN</td>\n",
       "      <td>NaN</td>\n",
       "      <td>NaN</td>\n",
       "      <td>F</td>\n",
       "      <td>F</td>\n",
       "      <td>T</td>\n",
       "      <td>T</td>\n",
       "      <td>desktop</td>\n",
       "      <td>NaN</td>\n",
       "    </tr>\n",
       "    <tr>\n",
       "      <th>4</th>\n",
       "      <td>2987016</td>\n",
       "      <td>0.0</td>\n",
       "      <td>7460.0</td>\n",
       "      <td>0.0</td>\n",
       "      <td>0.0</td>\n",
       "      <td>1.0</td>\n",
       "      <td>0.0</td>\n",
       "      <td>NaN</td>\n",
       "      <td>NaN</td>\n",
       "      <td>0.0</td>\n",
       "      <td>...</td>\n",
       "      <td>chrome 62.0</td>\n",
       "      <td>24.0</td>\n",
       "      <td>1280x800</td>\n",
       "      <td>match_status:2</td>\n",
       "      <td>T</td>\n",
       "      <td>F</td>\n",
       "      <td>T</td>\n",
       "      <td>T</td>\n",
       "      <td>desktop</td>\n",
       "      <td>MacOS</td>\n",
       "    </tr>\n",
       "  </tbody>\n",
       "</table>\n",
       "<p>5 rows × 41 columns</p>\n",
       "</div>"
      ],
      "text/plain": [
       "  TransactionID  id_01     id_02  id_03  id_04  id_05  id_06  id_07  id_08  \\\n",
       "0       2987004    0.0   70787.0    NaN    NaN    NaN    NaN    NaN    NaN   \n",
       "1       2987008   -5.0   98945.0    NaN    NaN    0.0   -5.0    NaN    NaN   \n",
       "2       2987010   -5.0  191631.0    0.0    0.0    0.0    0.0    NaN    NaN   \n",
       "3       2987011   -5.0  221832.0    NaN    NaN    0.0   -6.0    NaN    NaN   \n",
       "4       2987016    0.0    7460.0    0.0    0.0    1.0    0.0    NaN    NaN   \n",
       "\n",
       "   id_09  ...                id_31  id_32      id_33           id_34 id_35  \\\n",
       "0    NaN  ...  samsung browser 6.2   32.0  2220x1080  match_status:2     T   \n",
       "1    NaN  ...   mobile safari 11.0   32.0   1334x750  match_status:1     T   \n",
       "2    0.0  ...          chrome 62.0    NaN        NaN             NaN     F   \n",
       "3    NaN  ...          chrome 62.0    NaN        NaN             NaN     F   \n",
       "4    0.0  ...          chrome 62.0   24.0   1280x800  match_status:2     T   \n",
       "\n",
       "  id_36 id_37 id_38 DeviceType                     DeviceInfo  \n",
       "0     F     T     T     mobile  SAMSUNG SM-G892A Build/NRD90M  \n",
       "1     F     F     T     mobile                     iOS Device  \n",
       "2     F     T     T    desktop                        Windows  \n",
       "3     F     T     T    desktop                            NaN  \n",
       "4     F     T     T    desktop                          MacOS  \n",
       "\n",
       "[5 rows x 41 columns]"
      ]
     },
     "execution_count": 7,
     "metadata": {},
     "output_type": "execute_result"
    }
   ],
   "source": [
    "df_train_id.head(5)"
   ]
  },
  {
   "cell_type": "code",
   "execution_count": 8,
   "id": "9a202705-748b-4fc2-b275-28c12e5076b6",
   "metadata": {},
   "outputs": [
    {
     "data": {
      "text/html": [
       "<div>\n",
       "<style scoped>\n",
       "    .dataframe tbody tr th:only-of-type {\n",
       "        vertical-align: middle;\n",
       "    }\n",
       "\n",
       "    .dataframe tbody tr th {\n",
       "        vertical-align: top;\n",
       "    }\n",
       "\n",
       "    .dataframe thead th {\n",
       "        text-align: right;\n",
       "    }\n",
       "</style>\n",
       "<table border=\"1\" class=\"dataframe\">\n",
       "  <thead>\n",
       "    <tr style=\"text-align: right;\">\n",
       "      <th></th>\n",
       "      <th>TransactionID</th>\n",
       "      <th>isFraud</th>\n",
       "      <th>TransactionDT</th>\n",
       "      <th>TransactionAmt</th>\n",
       "      <th>ProductCD</th>\n",
       "      <th>card1</th>\n",
       "      <th>card2</th>\n",
       "      <th>card3</th>\n",
       "      <th>card4</th>\n",
       "      <th>card5</th>\n",
       "      <th>...</th>\n",
       "      <th>V330</th>\n",
       "      <th>V331</th>\n",
       "      <th>V332</th>\n",
       "      <th>V333</th>\n",
       "      <th>V334</th>\n",
       "      <th>V335</th>\n",
       "      <th>V336</th>\n",
       "      <th>V337</th>\n",
       "      <th>V338</th>\n",
       "      <th>V339</th>\n",
       "    </tr>\n",
       "  </thead>\n",
       "  <tbody>\n",
       "    <tr>\n",
       "      <th>0</th>\n",
       "      <td>2987000</td>\n",
       "      <td>0</td>\n",
       "      <td>86400</td>\n",
       "      <td>68.5</td>\n",
       "      <td>W</td>\n",
       "      <td>13926</td>\n",
       "      <td>NaN</td>\n",
       "      <td>150.0</td>\n",
       "      <td>discover</td>\n",
       "      <td>142.0</td>\n",
       "      <td>...</td>\n",
       "      <td>NaN</td>\n",
       "      <td>NaN</td>\n",
       "      <td>NaN</td>\n",
       "      <td>NaN</td>\n",
       "      <td>NaN</td>\n",
       "      <td>NaN</td>\n",
       "      <td>NaN</td>\n",
       "      <td>NaN</td>\n",
       "      <td>NaN</td>\n",
       "      <td>NaN</td>\n",
       "    </tr>\n",
       "    <tr>\n",
       "      <th>1</th>\n",
       "      <td>2987001</td>\n",
       "      <td>0</td>\n",
       "      <td>86401</td>\n",
       "      <td>29.0</td>\n",
       "      <td>W</td>\n",
       "      <td>2755</td>\n",
       "      <td>404.0</td>\n",
       "      <td>150.0</td>\n",
       "      <td>mastercard</td>\n",
       "      <td>102.0</td>\n",
       "      <td>...</td>\n",
       "      <td>NaN</td>\n",
       "      <td>NaN</td>\n",
       "      <td>NaN</td>\n",
       "      <td>NaN</td>\n",
       "      <td>NaN</td>\n",
       "      <td>NaN</td>\n",
       "      <td>NaN</td>\n",
       "      <td>NaN</td>\n",
       "      <td>NaN</td>\n",
       "      <td>NaN</td>\n",
       "    </tr>\n",
       "    <tr>\n",
       "      <th>2</th>\n",
       "      <td>2987002</td>\n",
       "      <td>0</td>\n",
       "      <td>86469</td>\n",
       "      <td>59.0</td>\n",
       "      <td>W</td>\n",
       "      <td>4663</td>\n",
       "      <td>490.0</td>\n",
       "      <td>150.0</td>\n",
       "      <td>visa</td>\n",
       "      <td>166.0</td>\n",
       "      <td>...</td>\n",
       "      <td>NaN</td>\n",
       "      <td>NaN</td>\n",
       "      <td>NaN</td>\n",
       "      <td>NaN</td>\n",
       "      <td>NaN</td>\n",
       "      <td>NaN</td>\n",
       "      <td>NaN</td>\n",
       "      <td>NaN</td>\n",
       "      <td>NaN</td>\n",
       "      <td>NaN</td>\n",
       "    </tr>\n",
       "    <tr>\n",
       "      <th>3</th>\n",
       "      <td>2987003</td>\n",
       "      <td>0</td>\n",
       "      <td>86499</td>\n",
       "      <td>50.0</td>\n",
       "      <td>W</td>\n",
       "      <td>18132</td>\n",
       "      <td>567.0</td>\n",
       "      <td>150.0</td>\n",
       "      <td>mastercard</td>\n",
       "      <td>117.0</td>\n",
       "      <td>...</td>\n",
       "      <td>NaN</td>\n",
       "      <td>NaN</td>\n",
       "      <td>NaN</td>\n",
       "      <td>NaN</td>\n",
       "      <td>NaN</td>\n",
       "      <td>NaN</td>\n",
       "      <td>NaN</td>\n",
       "      <td>NaN</td>\n",
       "      <td>NaN</td>\n",
       "      <td>NaN</td>\n",
       "    </tr>\n",
       "    <tr>\n",
       "      <th>4</th>\n",
       "      <td>2987004</td>\n",
       "      <td>0</td>\n",
       "      <td>86506</td>\n",
       "      <td>50.0</td>\n",
       "      <td>H</td>\n",
       "      <td>4497</td>\n",
       "      <td>514.0</td>\n",
       "      <td>150.0</td>\n",
       "      <td>mastercard</td>\n",
       "      <td>102.0</td>\n",
       "      <td>...</td>\n",
       "      <td>0.0</td>\n",
       "      <td>0.0</td>\n",
       "      <td>0.0</td>\n",
       "      <td>0.0</td>\n",
       "      <td>0.0</td>\n",
       "      <td>0.0</td>\n",
       "      <td>0.0</td>\n",
       "      <td>0.0</td>\n",
       "      <td>0.0</td>\n",
       "      <td>0.0</td>\n",
       "    </tr>\n",
       "  </tbody>\n",
       "</table>\n",
       "<p>5 rows × 394 columns</p>\n",
       "</div>"
      ],
      "text/plain": [
       "  TransactionID  isFraud  TransactionDT  TransactionAmt ProductCD  card1  \\\n",
       "0       2987000        0          86400            68.5         W  13926   \n",
       "1       2987001        0          86401            29.0         W   2755   \n",
       "2       2987002        0          86469            59.0         W   4663   \n",
       "3       2987003        0          86499            50.0         W  18132   \n",
       "4       2987004        0          86506            50.0         H   4497   \n",
       "\n",
       "   card2  card3       card4  card5  ... V330 V331 V332  V333  V334 V335 V336  \\\n",
       "0    NaN  150.0    discover  142.0  ...  NaN  NaN  NaN   NaN   NaN  NaN  NaN   \n",
       "1  404.0  150.0  mastercard  102.0  ...  NaN  NaN  NaN   NaN   NaN  NaN  NaN   \n",
       "2  490.0  150.0        visa  166.0  ...  NaN  NaN  NaN   NaN   NaN  NaN  NaN   \n",
       "3  567.0  150.0  mastercard  117.0  ...  NaN  NaN  NaN   NaN   NaN  NaN  NaN   \n",
       "4  514.0  150.0  mastercard  102.0  ...  0.0  0.0  0.0   0.0   0.0  0.0  0.0   \n",
       "\n",
       "   V337  V338  V339  \n",
       "0   NaN   NaN   NaN  \n",
       "1   NaN   NaN   NaN  \n",
       "2   NaN   NaN   NaN  \n",
       "3   NaN   NaN   NaN  \n",
       "4   0.0   0.0   0.0  \n",
       "\n",
       "[5 rows x 394 columns]"
      ]
     },
     "execution_count": 8,
     "metadata": {},
     "output_type": "execute_result"
    }
   ],
   "source": [
    "df_train_trans.head(5)"
   ]
  },
  {
   "cell_type": "markdown",
   "id": "98e88fad-0eac-4d35-bbed-72bd4e0c55dd",
   "metadata": {},
   "source": [
    "Join the datasets by the TransactionID"
   ]
  },
  {
   "cell_type": "code",
   "execution_count": 9,
   "id": "9c5f5866-b5ed-4b3a-8a8a-60b0f23e0993",
   "metadata": {
    "tags": []
   },
   "outputs": [],
   "source": [
    "def join_df(left, right, left_on, right_on=None, suffix='_y'):\n",
    "    if right_on is None: right_on = left_on\n",
    "    return left.merge(right, how='left', left_on=left_on, right_on=right_on, \n",
    "                      suffixes=(\"\", suffix))"
   ]
  },
  {
   "cell_type": "code",
   "execution_count": 10,
   "id": "a5a94125-3376-41fe-8460-5a82a6c7232c",
   "metadata": {},
   "outputs": [],
   "source": [
    "df_train = join_df(df_train_trans, df_train_id, id_cols)"
   ]
  },
  {
   "cell_type": "code",
   "execution_count": 11,
   "id": "03ae9c05-b41b-4f73-94d9-eacec19258e7",
   "metadata": {},
   "outputs": [],
   "source": [
    "assert (df_train.shape[0] == df_train_trans.shape[0]) & (df_train.shape[1] == df_train_trans.shape[1]+ df_train_id.shape[1]-1)"
   ]
  },
  {
   "cell_type": "markdown",
   "id": "943395af-89a5-4357-a97a-0157c76f923f",
   "metadata": {},
   "source": [
    "# Data cleaning and Feature engineering\n",
    "Upon looking at the test dataset, some columns have no missing values while in the dataset there are missing values for those columns. we want to make sure the model will not capitalize on columns that we know will have a complete different distribution in the test set. Let's add random NaN values on the Columns according the the percentage of NaN distribution in test dataset"
   ]
  },
  {
   "cell_type": "code",
   "execution_count": 12,
   "id": "66329c48-d437-402b-8c66-48276bae54d8",
   "metadata": {},
   "outputs": [],
   "source": [
    "C_NaN_Percent_dict = {'C1': 0.000592076827889187, 'C2': 0.000592076827889187, 'C3': 0.000592076827889187, 'C4': 0.000592076827889187, 'C5': 0.000592076827889187, 'C6': 0.000592076827889187,\\\n",
    " 'C7': 0.000592076827889187, 'C8': 0.000592076827889187, 'C9': 0.000592076827889187, 'C10': 0.000592076827889187, 'C11': 0.000592076827889187, 'C12': 0.000592076827889187,\\\n",
    " 'C13': 0.9370602596059532, 'C14': 0.000592076827889187} \n",
    "C_NaN_Percent_dict = { key: round(val*100,2) for key,val in C_NaN_Percent_dict.items()}"
   ]
  },
  {
   "cell_type": "code",
   "execution_count": 13,
   "id": "8903edba-af43-4770-a93d-43b3c2583609",
   "metadata": {},
   "outputs": [
    {
     "name": "stdout",
     "output_type": "stream",
     "text": [
      "C1 50\n",
      "C2 50\n",
      "C3 50\n",
      "C4 50\n",
      "C5 50\n",
      "C6 50\n",
      "C7 50\n",
      "C8 50\n",
      "C9 50\n",
      "C10 50\n",
      "C11 50\n",
      "C12 50\n",
      "C13 50\n",
      "C14 50\n"
     ]
    }
   ],
   "source": [
    "train_size = df_train.shape[0]\n",
    "for key,val in C_NaN_Percent_dict.items():\n",
    "    rate = int(train_size * val/100)\n",
    "    rate = rate if rate < 50 else 50\n",
    "    sample_idx = list(df_train[key].sample(rate).index)\n",
    "    print(key,len(sample_idx))\n",
    "    df_train.iloc[sample_idx,df_train.columns.get_loc(key)] = np.nan"
   ]
  },
  {
   "cell_type": "markdown",
   "id": "88d1d723-d1ae-48e3-9091-30d3f3bc4368",
   "metadata": {},
   "source": [
    "The Id columns in the training set and the test set are named differently. let's fix that."
   ]
  },
  {
   "cell_type": "code",
   "execution_count": 15,
   "id": "48197988-a99e-40a6-a7f5-72b6071c0d12",
   "metadata": {},
   "outputs": [],
   "source": [
    "col_name_map = {'id-{:02d}'.format(c):'id_{:02d}'.format(c) for c in range(1, 39)}"
   ]
  },
  {
   "cell_type": "code",
   "execution_count": 16,
   "id": "ee7c221c-1bca-4515-8f6c-43d72caa1b31",
   "metadata": {},
   "outputs": [],
   "source": [
    "df_test_id.rename(columns=col_name_map,inplace=True)"
   ]
  },
  {
   "cell_type": "code",
   "execution_count": 17,
   "id": "fdc5f1ad-527f-405e-b858-57a33176de2f",
   "metadata": {},
   "outputs": [],
   "source": [
    "col_type_map = {f'id_{c}':str for c in range(12, 39)}\n",
    "df_test_id = df_test_id.astype(col_type_map)"
   ]
  },
  {
   "cell_type": "code",
   "execution_count": 18,
   "id": "80566c04-f8ea-4820-9f38-4ca0ff1fe00b",
   "metadata": {
    "tags": []
   },
   "outputs": [],
   "source": [
    "df_test = join_df(df_test_trans, df_test_id, id_cols)"
   ]
  },
  {
   "cell_type": "code",
   "execution_count": 19,
   "id": "847b76d1-6d70-49e0-9fc2-60d6183142ef",
   "metadata": {},
   "outputs": [],
   "source": [
    "assert (df_test.shape[0] == df_test_trans.shape[0]) & (df_test.shape[1] == df_test_trans.shape[1]+ df_test_id.shape[1]-1)"
   ]
  },
  {
   "cell_type": "markdown",
   "id": "9be33f69-0ce5-473f-b59b-356425e686b8",
   "metadata": {},
   "source": [
    "We saw that the dataset was split by time. the test and the training cover different timestamp. this indicates that time is of importance to this exercise. let's add features called day and hour form the time stamp difference. notice that this is not the actual day of the week or the hour of the week but the periodicity of days of the week and the hours of the day will be preserved."
   ]
  },
  {
   "cell_type": "code",
   "execution_count": 20,
   "id": "795e3a6d-97b8-490a-a15b-ab16b5b98f9b",
   "metadata": {},
   "outputs": [],
   "source": [
    "df_train['day'] = ((df_train['TransactionDT']//(3600*24)-1)%7)+1\n",
    "df_test['day'] = ((df_test['TransactionDT']//(3600*24)-1)%7)+1\n",
    "df_train['hour'] = ((df_train['TransactionDT']//3600)%24)+1\n",
    "df_test['hour'] = ((df_test['TransactionDT']//3600)%24)+1"
   ]
  },
  {
   "cell_type": "markdown",
   "id": "b0b831be-5ae0-4d74-b5cb-13b5c609f60a",
   "metadata": {},
   "source": [
    "some of the id_* columns have strange values called 'nan'. let's replace this with np.nan"
   ]
  },
  {
   "cell_type": "code",
   "execution_count": 21,
   "id": "378b896b-6263-4092-abb3-6df22a5b5ffc",
   "metadata": {},
   "outputs": [
    {
     "data": {
      "text/plain": [
       "((0,), (5282,))"
      ]
     },
     "execution_count": 21,
     "metadata": {},
     "output_type": "execute_result"
    }
   ],
   "source": [
    "df_train.loc[df_train['id_31']=='nan','id_31'].shape,df_test.loc[df_test['id_31']=='nan','id_31'].shape"
   ]
  },
  {
   "cell_type": "markdown",
   "id": "31277eea-5d41-4c4b-880d-023784fb0c0e",
   "metadata": {},
   "source": [
    "As per recommendation from EDA, let's change all values that are string 'nan' to 'np.nan'"
   ]
  },
  {
   "cell_type": "code",
   "execution_count": 22,
   "id": "4b4d5c03-96ab-4870-b4be-5aeb137cf1dd",
   "metadata": {},
   "outputs": [],
   "source": [
    "for i in range(1, 39):\n",
    "    c = 'id_{:02d}'.format(i)\n",
    "    df_train.loc[df_train[c]=='nan',c] = np.nan\n",
    "    df_test.loc[df_test[c]=='nan',c] = np.nan"
   ]
  },
  {
   "cell_type": "code",
   "execution_count": 23,
   "id": "08cc1046-d0a9-4711-9b02-221b4ce40e6b",
   "metadata": {},
   "outputs": [
    {
     "data": {
      "text/plain": [
       "((0,), (0,))"
      ]
     },
     "execution_count": 23,
     "metadata": {},
     "output_type": "execute_result"
    }
   ],
   "source": [
    "df_train.loc[df_train['id_31']=='nan','id_31'].shape,df_test.loc[df_test['id_31']=='nan','id_31'].shape"
   ]
  },
  {
   "cell_type": "markdown",
   "id": "ae63dd37-c5ff-49d1-811b-3217bd23dd48",
   "metadata": {},
   "source": [
    "The column id_31 has information about device used by the client. this information include the version number. However given that our dataset is divided by timestamp, it makes sense that version used in the past will no longer be available in the future. this implies that the column might become not usable for future data. to keep it useful, let's separate device name from it's version by adding a new column for versions"
   ]
  },
  {
   "cell_type": "code",
   "execution_count": 24,
   "id": "5701f538-dc67-4176-98d7-f3457afa1372",
   "metadata": {},
   "outputs": [],
   "source": [
    "def remove_numbers(df_train, df_test, feature):\n",
    "    df_train.loc[:, f'{feature}_v'] = df_train[feature].str.replace(r'[^0-9\\.0-9]', '', regex=True)\n",
    "    df_train.loc[:, feature] = df_train[feature].str.replace(r'[^A-Za-z]', '', regex=True)\n",
    "    df_train.loc[:, feature].astype(str)\n",
    "    df_test.loc[:, f'{feature}_v'] = df_test[feature].str.replace(r'[^0-9\\.0-9]', '', regex=True)\n",
    "    df_test.loc[:, feature] = df_test[feature].str.replace(r'[^A-Za-z]', '', regex=True)\n",
    "    df_test.loc[:, feature].astype(str)"
   ]
  },
  {
   "cell_type": "code",
   "execution_count": 25,
   "id": "1e4623a6-dddd-46fe-ae92-be7198741460",
   "metadata": {},
   "outputs": [],
   "source": [
    "remove_numbers(df_train, df_test, 'id_31')"
   ]
  },
  {
   "cell_type": "code",
   "execution_count": 26,
   "id": "6486c22c-a5ce-4c1f-be2a-c216da35b0e5",
   "metadata": {},
   "outputs": [
    {
     "data": {
      "text/plain": [
       "array([nan, '6.2', '11.0', '62.0', '15.0', '', '49.0', '61.0', '16.0',\n",
       "       '14.0', '56.0', '57.0', '54.0', '60.0', '10.0', '9.0', '59.0',\n",
       "       '4.0', '55.0', '52.0', '46.0', '58.0', '48.0', '13.0', '53.0',\n",
       "       '8.0', '7.0', '532', '50.0', '51.0', '63.0', '5.4', '47.0', '531',\n",
       "       '43.0', '5.2', '200', '64.0', '44', '4.2', '6.4', '65.0', '17.0',\n",
       "       '66.0', '3.3', '67.0', '69.0'], dtype=object)"
      ]
     },
     "execution_count": 26,
     "metadata": {},
     "output_type": "execute_result"
    }
   ],
   "source": [
    "df_train['id_31_v'].unique()"
   ]
  },
  {
   "cell_type": "code",
   "execution_count": 27,
   "id": "396abf8e-1193-4df4-8968-a25355f3555c",
   "metadata": {},
   "outputs": [],
   "source": [
    "df_train.to_csv('data/train.csv',index=False)"
   ]
  },
  {
   "cell_type": "code",
   "execution_count": 28,
   "id": "fc3abe84-0309-413d-b40f-57b8d93d33ed",
   "metadata": {},
   "outputs": [],
   "source": [
    "df_test.to_csv('data/test.csv',index=False)"
   ]
  },
  {
   "cell_type": "code",
   "execution_count": 29,
   "id": "7996a184-7050-4b6c-992d-62ccfff0fedf",
   "metadata": {},
   "outputs": [],
   "source": [
    "numeric_cols = [col for col in df_train.columns.tolist() if col not in cat_cols + id_cols + [dep_var]]"
   ]
  },
  {
   "cell_type": "code",
   "execution_count": 30,
   "id": "b4f41bc7-932a-4427-963b-8c31ac6e2c44",
   "metadata": {},
   "outputs": [],
   "source": [
    "features = {}\n",
    "features['cat'] = cat_cols\n",
    "features['cont'] = numeric_cols\n",
    "features['dep_var'] = dep_var\n",
    "#save the best params to a file\n",
    "with open('artifacts/features.txt', 'w') as outfile:\n",
    "    json.dump(features, outfile)"
   ]
  },
  {
   "cell_type": "markdown",
   "id": "d3937aeb-eb13-4e54-812e-94879fdd94f5",
   "metadata": {},
   "source": [
    "# Save a small stratified sample to use for quick testing of our code when writing our model"
   ]
  },
  {
   "cell_type": "code",
   "execution_count": 31,
   "id": "72f33f69-f790-4f46-bdbf-4eb5576d0428",
   "metadata": {},
   "outputs": [],
   "source": [
    "def stratifiedSample(df,n_samples,splitter):\n",
    "    cols = list(df.columns.values)\n",
    "    cols.remove(splitter)\n",
    "    X = df[cols]\n",
    "    y = df[splitter]\n",
    "\n",
    "    splits = StratifiedShuffleSplit(n_splits=1, test_size=n_samples, random_state=42)\n",
    "   \n",
    "    for _, test_index in splits.split(X, y):\n",
    "        sample = df.iloc[test_index]\n",
    "\n",
    "\n",
    "    return sample"
   ]
  },
  {
   "cell_type": "code",
   "execution_count": 32,
   "id": "d8fa8594-6949-4ba5-b31a-63a126efcfec",
   "metadata": {},
   "outputs": [],
   "source": [
    "df_train_sample = stratifiedSample(df_train,41326,dep_var)"
   ]
  },
  {
   "cell_type": "code",
   "execution_count": 33,
   "id": "08b17794-05dd-4b6d-8d18-9f4a8e7fc7cb",
   "metadata": {},
   "outputs": [
    {
     "data": {
      "text/html": [
       "<div>\n",
       "<style scoped>\n",
       "    .dataframe tbody tr th:only-of-type {\n",
       "        vertical-align: middle;\n",
       "    }\n",
       "\n",
       "    .dataframe tbody tr th {\n",
       "        vertical-align: top;\n",
       "    }\n",
       "\n",
       "    .dataframe thead th {\n",
       "        text-align: right;\n",
       "    }\n",
       "</style>\n",
       "<table border=\"1\" class=\"dataframe\">\n",
       "  <thead>\n",
       "    <tr style=\"text-align: right;\">\n",
       "      <th></th>\n",
       "      <th>TransactionID</th>\n",
       "      <th>TransactionDT</th>\n",
       "      <th>TransactionAmt</th>\n",
       "      <th>ProductCD</th>\n",
       "      <th>card1</th>\n",
       "      <th>card2</th>\n",
       "      <th>card3</th>\n",
       "      <th>card4</th>\n",
       "      <th>card5</th>\n",
       "      <th>card6</th>\n",
       "      <th>...</th>\n",
       "      <th>id_34</th>\n",
       "      <th>id_35</th>\n",
       "      <th>id_36</th>\n",
       "      <th>id_37</th>\n",
       "      <th>id_38</th>\n",
       "      <th>DeviceType</th>\n",
       "      <th>DeviceInfo</th>\n",
       "      <th>day</th>\n",
       "      <th>hour</th>\n",
       "      <th>id_31_v</th>\n",
       "    </tr>\n",
       "    <tr>\n",
       "      <th>isFraud</th>\n",
       "      <th></th>\n",
       "      <th></th>\n",
       "      <th></th>\n",
       "      <th></th>\n",
       "      <th></th>\n",
       "      <th></th>\n",
       "      <th></th>\n",
       "      <th></th>\n",
       "      <th></th>\n",
       "      <th></th>\n",
       "      <th></th>\n",
       "      <th></th>\n",
       "      <th></th>\n",
       "      <th></th>\n",
       "      <th></th>\n",
       "      <th></th>\n",
       "      <th></th>\n",
       "      <th></th>\n",
       "      <th></th>\n",
       "      <th></th>\n",
       "      <th></th>\n",
       "    </tr>\n",
       "  </thead>\n",
       "  <tbody>\n",
       "    <tr>\n",
       "      <th>0</th>\n",
       "      <td>39880</td>\n",
       "      <td>39880</td>\n",
       "      <td>39880</td>\n",
       "      <td>39880</td>\n",
       "      <td>39880</td>\n",
       "      <td>39326</td>\n",
       "      <td>39777</td>\n",
       "      <td>39776</td>\n",
       "      <td>39608</td>\n",
       "      <td>39777</td>\n",
       "      <td>...</td>\n",
       "      <td>5195</td>\n",
       "      <td>9074</td>\n",
       "      <td>9074</td>\n",
       "      <td>9074</td>\n",
       "      <td>9074</td>\n",
       "      <td>9066</td>\n",
       "      <td>7695</td>\n",
       "      <td>39880</td>\n",
       "      <td>39880</td>\n",
       "      <td>9027</td>\n",
       "    </tr>\n",
       "    <tr>\n",
       "      <th>1</th>\n",
       "      <td>1446</td>\n",
       "      <td>1446</td>\n",
       "      <td>1446</td>\n",
       "      <td>1446</td>\n",
       "      <td>1446</td>\n",
       "      <td>1417</td>\n",
       "      <td>1443</td>\n",
       "      <td>1442</td>\n",
       "      <td>1432</td>\n",
       "      <td>1443</td>\n",
       "      <td>...</td>\n",
       "      <td>261</td>\n",
       "      <td>799</td>\n",
       "      <td>799</td>\n",
       "      <td>799</td>\n",
       "      <td>799</td>\n",
       "      <td>798</td>\n",
       "      <td>604</td>\n",
       "      <td>1446</td>\n",
       "      <td>1446</td>\n",
       "      <td>799</td>\n",
       "    </tr>\n",
       "  </tbody>\n",
       "</table>\n",
       "<p>2 rows × 436 columns</p>\n",
       "</div>"
      ],
      "text/plain": [
       "         TransactionID  TransactionDT  TransactionAmt  ProductCD  card1  \\\n",
       "isFraud                                                                   \n",
       "0                39880          39880           39880      39880  39880   \n",
       "1                 1446           1446            1446       1446   1446   \n",
       "\n",
       "         card2  card3  card4  card5  card6  ...  id_34  id_35  id_36  id_37  \\\n",
       "isFraud                                     ...                               \n",
       "0        39326  39777  39776  39608  39777  ...   5195   9074   9074   9074   \n",
       "1         1417   1443   1442   1432   1443  ...    261    799    799    799   \n",
       "\n",
       "         id_38  DeviceType  DeviceInfo    day   hour  id_31_v  \n",
       "isFraud                                                        \n",
       "0         9074        9066        7695  39880  39880     9027  \n",
       "1          799         798         604   1446   1446      799  \n",
       "\n",
       "[2 rows x 436 columns]"
      ]
     },
     "execution_count": 33,
     "metadata": {},
     "output_type": "execute_result"
    }
   ],
   "source": [
    "df_train_sample.groupby([dep_var]).count()"
   ]
  },
  {
   "cell_type": "code",
   "execution_count": 34,
   "id": "1fd62d29-5147-40b8-a98c-86d6ad35336e",
   "metadata": {},
   "outputs": [],
   "source": [
    "df_train_sample.to_csv('data/train-sample.csv',index=False)"
   ]
  },
  {
   "cell_type": "markdown",
   "id": "432dd061-f8a9-4dc3-9b7e-945ce30d9872",
   "metadata": {},
   "source": [
    "# Balanced samples\n",
    "Our dataset is heavily imbalanced. let's adopt a strategy where we train on all the positive cases and then for the negative sample let's take three times the number of positive samples but order by reverse time. that's we take data starting from the latest timestamp in the training set.\n",
    "\n",
    "Also since we added a small percentage of random NaN values on the C(1-12,14), we need to make sure these values will make it to the training set"
   ]
  },
  {
   "cell_type": "code",
   "execution_count": 35,
   "id": "5f5d6572-cfce-4958-b1d6-215c97acb023",
   "metadata": {},
   "outputs": [],
   "source": [
    "def balanceSample(df):\n",
    "    period = 3600*24*120\n",
    "    missing = df[(df['V279'].isnull()) | (df['C1'].isnull()) | (df['C2'].isnull())  | (df['C3'].isnull())  | (df['C4'].isnull())  | (df['C5'].isnull())\\\n",
    "                 | (df['C6'].isnull()) | (df['C7'].isnull()) | (df['C8'].isnull()) | (df['C9'].isnull()) | (df['C10'].isnull()) | (df['C11'].isnull())\\\n",
    "                 | (df['C12'].isnull()) | (df['C14'].isnull())].copy()\n",
    "    \n",
    "    df = df[df['TransactionDT'] >= df['TransactionDT'].max()-period]\n",
    "    pos = df[df['isFraud']==1]\n",
    "    neg = df[df['isFraud']==0]\n",
    "    neg = neg.sort_values(by=['TransactionDT'])\n",
    "    count_pos = pos.shape[0]\n",
    "    neg_sample = neg.sample(count_pos*3)\n",
    "    sample = pd.concat([neg_sample,pos,missing])\n",
    "    sample = sample.drop_duplicates(keep='last')\n",
    "    \n",
    "    sample = sample.sample(frac=1).reset_index(drop=True)\n",
    "    print(f'Shape : {sample.shape}')\n",
    "    return sample"
   ]
  },
  {
   "cell_type": "code",
   "execution_count": 36,
   "id": "871907ad-bf9c-4394-b0bc-34e63874bdec",
   "metadata": {},
   "outputs": [
    {
     "name": "stdout",
     "output_type": "stream",
     "text": [
      "Shape : (54249, 437)\n"
     ]
    }
   ],
   "source": [
    "df_train_balance = balanceSample(df_train)"
   ]
  },
  {
   "cell_type": "code",
   "execution_count": 37,
   "id": "464f8c6f-d21c-43cc-98c8-e05e723a8e02",
   "metadata": {},
   "outputs": [],
   "source": [
    "df_train_balance.to_csv('data/train-balance.csv',index=False)"
   ]
  },
  {
   "cell_type": "code",
   "execution_count": 38,
   "id": "eda0b367-95c3-4121-ac09-81c0bd4f186c",
   "metadata": {},
   "outputs": [
    {
     "data": {
      "text/plain": [
       "0"
      ]
     },
     "execution_count": 38,
     "metadata": {},
     "output_type": "execute_result"
    }
   ],
   "source": [
    "import gc\n",
    "gc.collect()"
   ]
  },
  {
   "cell_type": "code",
   "execution_count": null,
   "id": "32d3f269-02fc-49b9-a04e-8cf7b03960e6",
   "metadata": {},
   "outputs": [],
   "source": []
  }
 ],
 "metadata": {
  "kernelspec": {
   "display_name": "Python 3",
   "language": "python",
   "name": "python3"
  },
  "language_info": {
   "codemirror_mode": {
    "name": "ipython",
    "version": 3
   },
   "file_extension": ".py",
   "mimetype": "text/x-python",
   "name": "python",
   "nbconvert_exporter": "python",
   "pygments_lexer": "ipython3",
   "version": "3.8.10"
  }
 },
 "nbformat": 4,
 "nbformat_minor": 5
}
