{
 "cells": [
  {
   "cell_type": "markdown",
   "id": "e48502ca-9f62-4be9-b5bf-140dba192cb8",
   "metadata": {},
   "source": [
    "# IEEE- FRAUD DETECTION USING CATBOOST AND FASTAI"
   ]
  },
  {
   "cell_type": "markdown",
   "id": "a2e2c11d-41a7-46be-94f8-9367f208365a",
   "metadata": {},
   "source": [
    "## Load packages"
   ]
  },
  {
   "cell_type": "code",
   "execution_count": 1,
   "id": "29c2d257-9b70-4b32-b395-0514ca0afc18",
   "metadata": {},
   "outputs": [],
   "source": [
    "import pickle\n",
    "import pandas as pd\n",
    "import numpy as np\n",
    "from utils.data import get_data, export, balanceSample\n",
    "from functools import partial\n",
    "import optuna\n",
    "from optuna.samplers import TPESampler\n",
    "import json\n",
    "# import random"
   ]
  },
  {
   "cell_type": "markdown",
   "id": "2b2b8402-57e9-49c0-a4e1-0227c65a8e0a",
   "metadata": {},
   "source": [
    "## Load the dataset & artifacts"
   ]
  },
  {
   "cell_type": "code",
   "execution_count": 2,
   "id": "a45a1c67-4af1-4209-be8f-799adf08c71b",
   "metadata": {},
   "outputs": [],
   "source": [
    "X_train, y_train, X_valid, y_valid,_ = get_data('data/train-balance.csv', valid_pct=0.2,hp=True)"
   ]
  },
  {
   "cell_type": "code",
   "execution_count": 3,
   "id": "b60fcb08-b10f-4f98-bd59-00a0c00055bd",
   "metadata": {},
   "outputs": [],
   "source": [
    "# X_valid.to_csv('data/X_valid.csv', index=False)\n",
    "# y_valid.to_csv('data/y_valid.csv', index=False)"
   ]
  },
  {
   "cell_type": "code",
   "execution_count": 4,
   "id": "bf65dccc-30de-4a82-8f65-2615b0bddef2",
   "metadata": {},
   "outputs": [],
   "source": [
    "with open('artifacts/features.txt') as json_file:\n",
    "        features = json.load(json_file)"
   ]
  },
  {
   "cell_type": "markdown",
   "id": "d24cda4a-d726-4bf8-9ae1-7fca5967b91a",
   "metadata": {},
   "source": [
    "## Catboost model"
   ]
  },
  {
   "cell_type": "code",
   "execution_count": 5,
   "id": "f16e9037-a325-4254-aad7-da710da0572b",
   "metadata": {},
   "outputs": [],
   "source": [
    "from catboost import Pool, CatBoostClassifier\n",
    "from sklearn.metrics import accuracy_score, roc_auc_score"
   ]
  },
  {
   "cell_type": "markdown",
   "id": "d6695b40-09ed-44c6-9d41-918e2c329a28",
   "metadata": {},
   "source": [
    "### Define the training function"
   ]
  },
  {
   "cell_type": "code",
   "execution_count": 6,
   "id": "5f0f6050-e873-458d-8ea6-d57346805b4b",
   "metadata": {},
   "outputs": [],
   "source": [
    "def train(params,train_data,val_data, plot_status=False):\n",
    "    \n",
    "    model = CatBoostClassifier(**params)\n",
    "\n",
    "    model.fit(train_data, eval_set=val_data, plot=plot_status, verbose=False)\n",
    "\n",
    "    predictions = model.predict(val_data)\n",
    "\n",
    "\n",
    "    auc = roc_auc_score(val_data.get_label(), predictions)\n",
    "\n",
    "    accuracy = accuracy_score(val_data.get_label(), predictions)\n",
    "\n",
    "    print(f'Average AUC: {auc}, Average Accuracy: {accuracy}')\n",
    "    return model"
   ]
  },
  {
   "cell_type": "markdown",
   "id": "e9426ca6-f652-4686-9072-88539337f659",
   "metadata": {},
   "source": [
    "### Define the objective function to be maximized by Optuna"
   ]
  },
  {
   "cell_type": "code",
   "execution_count": 7,
   "id": "e9a46aa7-1e20-48ee-9cc9-152068493b64",
   "metadata": {},
   "outputs": [],
   "source": [
    "def objective(trial, X_train, y_train,X_valid,y_valid):\n",
    "\n",
    "    params = {\n",
    "        'iterations': trial.suggest_int('iterations', 120,200),\n",
    "        'custom_metric': trial.suggest_categorical('custom_metric',['AUC']),\n",
    "        'loss_function': trial.suggest_categorical('loss_function',['Logloss']),\n",
    "        'learning_rate': trial.suggest_float('learning_rate', 0.04, 0.07),\n",
    "        'subsample': trial.suggest_float('subsample', 0.5, 0.7),\n",
    "#         'depth': trial.suggest_int('depth', 10,20),\n",
    "        'scale_pos_weight':trial.suggest_int('scale_pos_weight', 1, 4)\n",
    "    }\n",
    "        \n",
    "    X_train, y_train = balanceSample(X_train,y_train)\n",
    "    \n",
    "    train_data = Pool(\n",
    "        data=X_train,\n",
    "        label=y_train,\n",
    "        cat_features=features['cat'],\n",
    "    )\n",
    "    \n",
    "    val_data = Pool(\n",
    "        data=X_valid,\n",
    "        label=y_valid,\n",
    "        cat_features=features['cat'],\n",
    "    )\n",
    "      \n",
    "    model = train(params,  train_data, val_data)\n",
    "    predictions = model.predict(val_data)\n",
    "\n",
    "\n",
    "    auc = roc_auc_score(y_valid, predictions)\n",
    "\n",
    "    return auc"
   ]
  },
  {
   "cell_type": "markdown",
   "id": "3b2c4b04-0983-459e-81cc-bc8b710688f1",
   "metadata": {},
   "source": [
    "### Run Hyperparameter optimization with Optuna"
   ]
  },
  {
   "cell_type": "code",
   "execution_count": 8,
   "id": "249d6016-2f3f-4ccc-aed9-e1e90f53515f",
   "metadata": {
    "tags": []
   },
   "outputs": [
    {
     "name": "stderr",
     "output_type": "stream",
     "text": [
      "\u001b[32m[I 2021-06-20 02:19:32,291]\u001b[0m A new study created in memory with name: no-name-8edf6afb-f73a-48ea-8cc0-6794721ffbb0\u001b[0m\n"
     ]
    },
    {
     "name": "stdout",
     "output_type": "stream",
     "text": [
      "X shape : (29482, 817), y shape: (29482,)\n"
     ]
    },
    {
     "name": "stderr",
     "output_type": "stream",
     "text": [
      "\u001b[32m[I 2021-06-20 02:19:42,959]\u001b[0m Trial 0 finished with value: 0.842140034028769 and parameters: {'iterations': 150, 'custom_metric': 'AUC', 'loss_function': 'Logloss', 'learning_rate': 0.06852142919229749, 'subsample': 0.646398788362281, 'scale_pos_weight': 3}. Best is trial 0 with value: 0.842140034028769.\u001b[0m\n"
     ]
    },
    {
     "name": "stdout",
     "output_type": "stream",
     "text": [
      "Average AUC: 0.842140034028769, Average Accuracy: 0.8247926267281106\n",
      "X shape : (24199, 817), y shape: (24199,)\n"
     ]
    },
    {
     "name": "stderr",
     "output_type": "stream",
     "text": [
      "\u001b[32m[I 2021-06-20 02:19:51,939]\u001b[0m Trial 1 finished with value: 0.7969611410811565 and parameters: {'iterations': 132, 'custom_metric': 'AUC', 'loss_function': 'Logloss', 'learning_rate': 0.04467983561008608, 'subsample': 0.5116167224336399, 'scale_pos_weight': 4}. Best is trial 0 with value: 0.842140034028769.\u001b[0m\n"
     ]
    },
    {
     "name": "stdout",
     "output_type": "stream",
     "text": [
      "Average AUC: 0.7969611410811565, Average Accuracy: 0.7458064516129033\n",
      "X shape : (31252, 817), y shape: (31252,)\n"
     ]
    },
    {
     "name": "stderr",
     "output_type": "stream",
     "text": [
      "\u001b[32m[I 2021-06-20 02:20:03,464]\u001b[0m Trial 2 finished with value: 0.8221859740187931 and parameters: {'iterations': 168, 'custom_metric': 'AUC', 'loss_function': 'Logloss', 'learning_rate': 0.06124217733388137, 'subsample': 0.5041168988591604, 'scale_pos_weight': 4}. Best is trial 0 with value: 0.842140034028769.\u001b[0m\n"
     ]
    },
    {
     "name": "stdout",
     "output_type": "stream",
     "text": [
      "Average AUC: 0.8221859740187931, Average Accuracy: 0.7802764976958525\n",
      "X shape : (26182, 817), y shape: (26182,)\n"
     ]
    },
    {
     "name": "stderr",
     "output_type": "stream",
     "text": [
      "\u001b[32m[I 2021-06-20 02:20:14,795]\u001b[0m Trial 3 finished with value: 0.836449488474108 and parameters: {'iterations': 187, 'custom_metric': 'AUC', 'loss_function': 'Logloss', 'learning_rate': 0.04637017332034829, 'subsample': 0.5363649934414201, 'scale_pos_weight': 1}. Best is trial 0 with value: 0.842140034028769.\u001b[0m\n"
     ]
    },
    {
     "name": "stdout",
     "output_type": "stream",
     "text": [
      "Average AUC: 0.836449488474108, Average Accuracy: 0.8890322580645161\n",
      "X shape : (26205, 817), y shape: (26205,)\n"
     ]
    },
    {
     "name": "stderr",
     "output_type": "stream",
     "text": [
      "\u001b[32m[I 2021-06-20 02:20:24,403]\u001b[0m Trial 4 finished with value: 0.8414818065889558 and parameters: {'iterations': 144, 'custom_metric': 'AUC', 'loss_function': 'Logloss', 'learning_rate': 0.05574269294896714, 'subsample': 0.5863890037284232, 'scale_pos_weight': 2}. Best is trial 0 with value: 0.842140034028769.\u001b[0m\n"
     ]
    },
    {
     "name": "stdout",
     "output_type": "stream",
     "text": [
      "Average AUC: 0.8414818065889558, Average Accuracy: 0.851889400921659\n",
      "X shape : (31243, 817), y shape: (31243,)\n"
     ]
    },
    {
     "name": "stderr",
     "output_type": "stream",
     "text": [
      "\u001b[32m[I 2021-06-20 02:20:36,488]\u001b[0m Trial 5 finished with value: 0.8456629446980667 and parameters: {'iterations': 169, 'custom_metric': 'AUC', 'loss_function': 'Logloss', 'learning_rate': 0.044184815819561254, 'subsample': 0.5584289297070436, 'scale_pos_weight': 2}. Best is trial 5 with value: 0.8456629446980667.\u001b[0m\n"
     ]
    },
    {
     "name": "stdout",
     "output_type": "stream",
     "text": [
      "Average AUC: 0.8456629446980667, Average Accuracy: 0.8570506912442396\n",
      "X shape : (24332, 817), y shape: (24332,)\n"
     ]
    },
    {
     "name": "stderr",
     "output_type": "stream",
     "text": [
      "\u001b[32m[I 2021-06-20 02:20:47,457]\u001b[0m Trial 6 finished with value: 0.8322281471139479 and parameters: {'iterations': 156, 'custom_metric': 'AUC', 'loss_function': 'Logloss', 'learning_rate': 0.06355527884179041, 'subsample': 0.5399347564316719, 'scale_pos_weight': 3}. Best is trial 5 with value: 0.8456629446980667.\u001b[0m\n"
     ]
    },
    {
     "name": "stdout",
     "output_type": "stream",
     "text": [
      "Average AUC: 0.8322281471139479, Average Accuracy: 0.8148387096774193\n",
      "X shape : (24269, 817), y shape: (24269,)\n"
     ]
    },
    {
     "name": "stderr",
     "output_type": "stream",
     "text": [
      "\u001b[32m[I 2021-06-20 02:20:57,901]\u001b[0m Trial 7 finished with value: 0.8300658112244251 and parameters: {'iterations': 167, 'custom_metric': 'AUC', 'loss_function': 'Logloss', 'learning_rate': 0.04139351238159993, 'subsample': 0.6215089703802876, 'scale_pos_weight': 1}. Best is trial 5 with value: 0.8456629446980667.\u001b[0m\n"
     ]
    },
    {
     "name": "stdout",
     "output_type": "stream",
     "text": [
      "Average AUC: 0.8300658112244251, Average Accuracy: 0.8846082949308756\n",
      "X shape : (27879, 817), y shape: (27879,)\n"
     ]
    },
    {
     "name": "stderr",
     "output_type": "stream",
     "text": [
      "\u001b[32m[I 2021-06-20 02:21:07,510]\u001b[0m Trial 8 finished with value: 0.8157127898176338 and parameters: {'iterations': 125, 'custom_metric': 'AUC', 'loss_function': 'Logloss', 'learning_rate': 0.0684665661176, 'subsample': 0.6931264066149119, 'scale_pos_weight': 4}. Best is trial 5 with value: 0.8456629446980667.\u001b[0m\n"
     ]
    },
    {
     "name": "stdout",
     "output_type": "stream",
     "text": [
      "Average AUC: 0.8157127898176338, Average Accuracy: 0.772811059907834\n",
      "X shape : (31210, 817), y shape: (31210,)\n"
     ]
    },
    {
     "name": "stderr",
     "output_type": "stream",
     "text": [
      "\u001b[32m[I 2021-06-20 02:21:18,888]\u001b[0m Trial 9 finished with value: 0.8433672123480426 and parameters: {'iterations': 144, 'custom_metric': 'AUC', 'loss_function': 'Logloss', 'learning_rate': 0.042930163420191514, 'subsample': 0.6368466053024313, 'scale_pos_weight': 2}. Best is trial 5 with value: 0.8456629446980667.\u001b[0m\n"
     ]
    },
    {
     "name": "stdout",
     "output_type": "stream",
     "text": [
      "Average AUC: 0.8433672123480426, Average Accuracy: 0.8510599078341013\n",
      "Number of finished trials:  10\n",
      "Best trial:\n",
      "  Value: 0.8456629446980667\n",
      "  Params: \n",
      "    iterations: 169\n",
      "    custom_metric: AUC\n",
      "    loss_function: Logloss\n",
      "    learning_rate: 0.044184815819561254\n",
      "    subsample: 0.5584289297070436\n",
      "    scale_pos_weight: 2\n"
     ]
    }
   ],
   "source": [
    "optimization_function = partial(objective,X_train=X_train,y_train=y_train, X_valid=X_valid, y_valid=y_valid)\n",
    "sampler = TPESampler(seed=42)  # Make the sampler behave in a deterministic way.\n",
    "study = optuna.create_study(sampler=sampler,direction=\"maximize\")\n",
    "study.optimize(optimization_function,n_trials=10)\n",
    "\n",
    "print(\"Number of finished trials: \", len(study.trials))\n",
    "print(\"Best trial:\")\n",
    "trial = study.best_trial\n",
    "\n",
    "print(\"  Value: {}\".format(trial.value))\n",
    "print(\"  Params: \")\n",
    "params = {}\n",
    "for key, value in trial.params.items():\n",
    "    print(\"    {}: {}\".format(key, value))\n",
    "    params[key] = value\n",
    "\n",
    "#save the best params to a file\n",
    "with open('artifacts/catboost-params.txt', 'w') as outfile:\n",
    "    json.dump(params, outfile)"
   ]
  },
  {
   "cell_type": "markdown",
   "id": "384d2221-041d-4caa-beb4-d16abb55b5b9",
   "metadata": {},
   "source": [
    "### Retrain the model with the best parameters"
   ]
  },
  {
   "cell_type": "code",
   "execution_count": 9,
   "id": "bee33800-d258-42f0-a73f-d1ad426bf490",
   "metadata": {},
   "outputs": [],
   "source": [
    "with open('artifacts/catboost-params.txt') as json_file:\n",
    "        params = json.load(json_file)"
   ]
  },
  {
   "cell_type": "code",
   "execution_count": 10,
   "id": "8a115897-629c-4c5d-9c3c-81f48c047f11",
   "metadata": {},
   "outputs": [],
   "source": [
    "train_data = Pool(\n",
    "        data=X_train,\n",
    "        label=y_train,\n",
    "        cat_features=features['cat'],\n",
    "    )\n",
    "    \n",
    "val_data = Pool(\n",
    "    data=X_valid,\n",
    "    label=y_valid,\n",
    "    cat_features=features['cat'],\n",
    ")"
   ]
  },
  {
   "cell_type": "code",
   "execution_count": 11,
   "id": "7be55f53-b106-43a1-a01d-61dc40428879",
   "metadata": {},
   "outputs": [
    {
     "data": {
      "application/vnd.jupyter.widget-view+json": {
       "model_id": "5cedc30a55a3408e81637c1864516a99",
       "version_major": 2,
       "version_minor": 0
      },
      "text/plain": [
       "MetricVisualizer(layout=Layout(align_self='stretch', height='500px'))"
      ]
     },
     "metadata": {},
     "output_type": "display_data"
    },
    {
     "name": "stdout",
     "output_type": "stream",
     "text": [
      "Average AUC: 0.8443157326034544, Average Accuracy: 0.8836866359447004\n"
     ]
    }
   ],
   "source": [
    "model = train(params,train_data,val_data,plot_status=True)"
   ]
  },
  {
   "cell_type": "code",
   "execution_count": 12,
   "id": "17c2376b-144b-4f65-8c66-44731764f655",
   "metadata": {},
   "outputs": [
    {
     "data": {
      "text/plain": [
       "0.8443157326034544"
      ]
     },
     "execution_count": 12,
     "metadata": {},
     "output_type": "execute_result"
    }
   ],
   "source": [
    "predictions = model.predict(val_data)\n",
    "auc_1 = roc_auc_score(val_data.get_label(), predictions)\n",
    "auc_1"
   ]
  },
  {
   "cell_type": "markdown",
   "id": "1b9a3d1d-c8df-4ba2-90fe-024c4b1972f9",
   "metadata": {},
   "source": [
    "### Save the model"
   ]
  },
  {
   "cell_type": "code",
   "execution_count": 13,
   "id": "d0ada7e7-7a94-451c-be8c-48db57ee8f0f",
   "metadata": {},
   "outputs": [],
   "source": [
    "model_filename = './artifacts/catboost-model.pkl'\n",
    "with open(model_filename, 'wb') as model_file:\n",
    "    pickle.dump(model, model_file)"
   ]
  },
  {
   "cell_type": "code",
   "execution_count": 14,
   "id": "3b11c4bc-1019-4440-943f-8349ed7cad8e",
   "metadata": {},
   "outputs": [],
   "source": [
    "from explainerdashboard import ClassifierExplainer, InlineExplainer"
   ]
  },
  {
   "cell_type": "markdown",
   "id": "c93d7308-05ee-4927-9deb-413e08ff8c5c",
   "metadata": {},
   "source": [
    "### Analyse the model"
   ]
  },
  {
   "cell_type": "code",
   "execution_count": 15,
   "id": "e5234ef1-6405-4467-a7e9-b3a2b463d28e",
   "metadata": {},
   "outputs": [
    {
     "name": "stdout",
     "output_type": "stream",
     "text": [
      "Note: model_output=='probability'. For CatBoostClassifier shap values normally get calculated against X_background, but paramater X_background=None, so using X instead\n",
      "Generating self.shap_explainer = shap.TreeExplainer(model, X, model_output='probability', feature_perturbation='interventional')...\n",
      "Note: Shap interaction values will not be available. If shap values in probability space are not necessary you can pass model_output='logodds' to get shap values in logodds without the need for a background dataset and also working shap interaction values...\n"
     ]
    }
   ],
   "source": [
    "explainer = ClassifierExplainer(model, X_valid, y_valid)"
   ]
  },
  {
   "cell_type": "code",
   "execution_count": 16,
   "id": "e2b7650d-9c51-4eeb-af13-9c7ee2366b3d",
   "metadata": {},
   "outputs": [],
   "source": [
    "# ie = InlineExplainer(explainer,mode='inline')"
   ]
  },
  {
   "cell_type": "code",
   "execution_count": 18,
   "id": "917236f5-baee-44bd-9047-145f14e4da86",
   "metadata": {},
   "outputs": [
    {
     "data": {
      "image/png": "[encoded data removed]",
      "text/plain": [
       "<Figure size 432x288 with 2 Axes>"
      ]
     },
     "metadata": {
      "needs_background": "light"
     },
     "output_type": "display_data"
    }
   ],
   "source": [
    "from sklearn.metrics import plot_confusion_matrix\n",
    "import matplotlib.pyplot as plt\n",
    "plot_confusion_matrix(model, X_valid, y_valid)  \n",
    "plt.show()"
   ]
  },
  {
   "cell_type": "code",
   "execution_count": 19,
   "id": "7bb3f14f-3afe-44fa-9f10-b3e183cc8340",
   "metadata": {
    "tags": []
   },
   "outputs": [],
   "source": [
    "# ie.classifier.confusion_matrix()"
   ]
  },
  {
   "cell_type": "code",
   "execution_count": 20,
   "id": "2faacfef-087f-487c-bf07-ea689199ac37",
   "metadata": {},
   "outputs": [],
   "source": [
    "# ie.importances()"
   ]
  },
  {
   "cell_type": "code",
   "execution_count": 21,
   "id": "b7f79e93-86f5-4610-9709-9a79f1a81329",
   "metadata": {},
   "outputs": [
    {
     "name": "stdout",
     "output_type": "stream",
     "text": [
      "Calculating shap values...\n"
     ]
    },
    {
     "name": "stderr",
     "output_type": "stream",
     "text": [
      " 98%|===================| 10606/10850 [00:42<00:00]        "
     ]
    }
   ],
   "source": [
    "df_importances = explainer.get_importances_df()"
   ]
  },
  {
   "cell_type": "code",
   "execution_count": 22,
   "id": "1916da1f-0d0c-4d84-a394-a8cfa3341d75",
   "metadata": {},
   "outputs": [
    {
     "data": {
      "image/png": "[encoded data removed]",
      "text/plain": [
       "<Figure size 1080x720 with 1 Axes>"
      ]
     },
     "metadata": {
      "needs_background": "light"
     },
     "output_type": "display_data"
    }
   ],
   "source": [
    "import seaborn as sns\n",
    "plt.figure(figsize=(15, 10))\n",
    "ax = sns.barplot(x=\"MEAN_ABS_SHAP\", y=\"Feature\", data=df_importances[:30], orient=\"h\")\n",
    "ax.set_xlim(df_importances[\"MEAN_ABS_SHAP\"].min(), df_importances[\"MEAN_ABS_SHAP\"].max())\n",
    "plt.title('Feature importance')\n",
    "plt.show()"
   ]
  },
  {
   "cell_type": "markdown",
   "id": "ff4c4e4d-a911-433a-a58e-adf749bb9dd7",
   "metadata": {},
   "source": [
    "### Retrain the model with only important features and compare it to the model with all features"
   ]
  },
  {
   "cell_type": "code",
   "execution_count": 23,
   "id": "4a383755-461a-4490-be53-e706d69d8eb0",
   "metadata": {},
   "outputs": [],
   "source": [
    "important_cols = df_importances[df_importances['MEAN_ABS_SHAP']>0].Feature.values.tolist()"
   ]
  },
  {
   "cell_type": "code",
   "execution_count": 24,
   "id": "8768a32c-b086-4e89-a7ea-9a82c57959b9",
   "metadata": {},
   "outputs": [],
   "source": [
    "cat = list(set(features['cat']).intersection(set(important_cols)))"
   ]
  },
  {
   "cell_type": "code",
   "execution_count": 25,
   "id": "88739fec-dc2e-4c18-8465-65a04eaccd22",
   "metadata": {},
   "outputs": [],
   "source": [
    "train_data_important = Pool(\n",
    "        data=X_train[important_cols],\n",
    "        label=y_train,\n",
    "        cat_features=cat,\n",
    "    )\n",
    "    \n",
    "val_data_important = Pool(\n",
    "    data=X_valid[important_cols],\n",
    "    label=y_valid,\n",
    "    cat_features=cat,\n",
    ")"
   ]
  },
  {
   "cell_type": "code",
   "execution_count": 26,
   "id": "f5d896ac-77f4-4739-9da0-ed143b8502b0",
   "metadata": {},
   "outputs": [
    {
     "data": {
      "application/vnd.jupyter.widget-view+json": {
       "model_id": "8db6b56f9be74728b9e03695f3e9d4bd",
       "version_major": 2,
       "version_minor": 0
      },
      "text/plain": [
       "MetricVisualizer(layout=Layout(align_self='stretch', height='500px'))"
      ]
     },
     "metadata": {},
     "output_type": "display_data"
    },
    {
     "name": "stdout",
     "output_type": "stream",
     "text": [
      "Average AUC: 0.7926828931134942, Average Accuracy: 0.851705069124424\n"
     ]
    }
   ],
   "source": [
    "model2 = train(params,train_data_important,val_data_important, plot_status=True)"
   ]
  },
  {
   "cell_type": "code",
   "execution_count": 27,
   "id": "d526d782-6b71-4e65-b078-c6451dbe6b60",
   "metadata": {},
   "outputs": [
    {
     "data": {
      "text/plain": [
       "0.7926828931134942"
      ]
     },
     "execution_count": 27,
     "metadata": {},
     "output_type": "execute_result"
    }
   ],
   "source": [
    "predictions = model2.predict(val_data_important)\n",
    "auc_2 = roc_auc_score(val_data.get_label(), predictions)\n",
    "auc_2"
   ]
  },
  {
   "cell_type": "markdown",
   "id": "24308d82-beb6-4d9c-83df-ec7a700fcd57",
   "metadata": {},
   "source": [
    "### Save important features and useless features so that you can use them later if needed"
   ]
  },
  {
   "cell_type": "code",
   "execution_count": 28,
   "id": "4c62e08e-852d-4e68-8c70-4cdd3ed167b9",
   "metadata": {},
   "outputs": [],
   "source": [
    "not_important_cols = df_importances[df_importances['MEAN_ABS_SHAP']==0].Feature.values.tolist()"
   ]
  },
  {
   "cell_type": "code",
   "execution_count": 29,
   "id": "3944770f-0f86-4b57-a292-f1e54cb3905e",
   "metadata": {},
   "outputs": [],
   "source": [
    "noneNa_not_important_cols = [c.split('_na')[0] for c in not_important_cols]\n",
    "noneNa_important_cols = [c.split('_na')[0] for c in important_cols]"
   ]
  },
  {
   "cell_type": "code",
   "execution_count": 30,
   "id": "9bcafecc-3d88-49e8-8081-1e31e56241d8",
   "metadata": {},
   "outputs": [],
   "source": [
    "useless = set(noneNa_not_important_cols).difference(set(noneNa_important_cols))"
   ]
  },
  {
   "cell_type": "code",
   "execution_count": 31,
   "id": "8f90b345-fbde-4393-b0f2-c2e6f3b48472",
   "metadata": {
    "tags": []
   },
   "outputs": [],
   "source": [
    "feature_imp = {}\n",
    "feature_imp['useless']  = list(useless)\n",
    "feature_imp['important'] = important_cols\n",
    "with open('artifacts/catboost-feature-importance.txt', 'w') as outfile:\n",
    "    json.dump(feature_imp, outfile)"
   ]
  },
  {
   "cell_type": "markdown",
   "id": "becaaf67-a1c3-4974-a425-235fce6f5870",
   "metadata": {},
   "source": [
    "## Fit the model to the test set"
   ]
  },
  {
   "cell_type": "code",
   "execution_count": 32,
   "id": "4278525e-149c-409e-b70f-337eae640c33",
   "metadata": {},
   "outputs": [],
   "source": [
    "df_test = pd.read_csv('data/test.csv', low_memory=False)"
   ]
  },
  {
   "cell_type": "code",
   "execution_count": 33,
   "id": "97a529cb-2bb8-40bc-b360-75eefdf5fa4a",
   "metadata": {},
   "outputs": [
    {
     "data": {
      "text/html": [
       "<div>\n",
       "<style scoped>\n",
       "    .dataframe tbody tr th:only-of-type {\n",
       "        vertical-align: middle;\n",
       "    }\n",
       "\n",
       "    .dataframe tbody tr th {\n",
       "        vertical-align: top;\n",
       "    }\n",
       "\n",
       "    .dataframe thead th {\n",
       "        text-align: right;\n",
       "    }\n",
       "</style>\n",
       "<table border=\"1\" class=\"dataframe\">\n",
       "  <thead>\n",
       "    <tr style=\"text-align: right;\">\n",
       "      <th></th>\n",
       "      <th>TransactionID</th>\n",
       "      <th>TransactionDT</th>\n",
       "      <th>TransactionAmt</th>\n",
       "      <th>ProductCD</th>\n",
       "      <th>card1</th>\n",
       "      <th>card2</th>\n",
       "      <th>card3</th>\n",
       "      <th>card4</th>\n",
       "      <th>card5</th>\n",
       "      <th>card6</th>\n",
       "      <th>...</th>\n",
       "      <th>id_34</th>\n",
       "      <th>id_35</th>\n",
       "      <th>id_36</th>\n",
       "      <th>id_37</th>\n",
       "      <th>id_38</th>\n",
       "      <th>DeviceType</th>\n",
       "      <th>DeviceInfo</th>\n",
       "      <th>day</th>\n",
       "      <th>hour</th>\n",
       "      <th>id_31_v</th>\n",
       "    </tr>\n",
       "  </thead>\n",
       "  <tbody>\n",
       "  </tbody>\n",
       "</table>\n",
       "<p>0 rows × 436 columns</p>\n",
       "</div>"
      ],
      "text/plain": [
       "Empty DataFrame\n",
       "Columns: [TransactionID, TransactionDT, TransactionAmt, ProductCD, card1, card2, card3, card4, card5, card6, addr1, addr2, dist1, dist2, P_emaildomain, R_emaildomain, C1, C2, C3, C4, C5, C6, C7, C8, C9, C10, C11, C12, C13, C14, D1, D2, D3, D4, D5, D6, D7, D8, D9, D10, D11, D12, D13, D14, D15, M1, M2, M3, M4, M5, M6, M7, M8, M9, V1, V2, V3, V4, V5, V6, V7, V8, V9, V10, V11, V12, V13, V14, V15, V16, V17, V18, V19, V20, V21, V22, V23, V24, V25, V26, V27, V28, V29, V30, V31, V32, V33, V34, V35, V36, V37, V38, V39, V40, V41, V42, V43, V44, V45, V46, ...]\n",
       "Index: []\n",
       "\n",
       "[0 rows x 436 columns]"
      ]
     },
     "execution_count": 33,
     "metadata": {},
     "output_type": "execute_result"
    }
   ],
   "source": [
    "df_test[df_test.duplicated()]"
   ]
  },
  {
   "cell_type": "code",
   "execution_count": 34,
   "id": "177e4450-00c4-4275-a530-372dd60e9263",
   "metadata": {},
   "outputs": [
    {
     "data": {
      "text/plain": [
       "(506691, 436)"
      ]
     },
     "execution_count": 34,
     "metadata": {},
     "output_type": "execute_result"
    }
   ],
   "source": [
    "df_test.shape"
   ]
  },
  {
   "cell_type": "markdown",
   "id": "04722a90-2e15-47ec-bd50-80cc5705bc86",
   "metadata": {},
   "source": [
    "### Prepocess the test set"
   ]
  },
  {
   "cell_type": "code",
   "execution_count": 35,
   "id": "c7c5723d-9098-4114-a053-b77ca92709f9",
   "metadata": {},
   "outputs": [],
   "source": [
    "with open('artifacts/data-proc.pkl', 'rb') as preproc_file:\n",
    "    preproc = pickle.load(preproc_file)\n",
    "\n",
    "    data_proc = preproc.train.new(df_test)\n",
    "    data_proc.process()"
   ]
  },
  {
   "cell_type": "markdown",
   "id": "a1472d3c-a422-4819-8cee-81beea35035d",
   "metadata": {},
   "source": [
    "### Use the model that showed good performance between the model with all features vs the one with only important features"
   ]
  },
  {
   "cell_type": "code",
   "execution_count": 36,
   "id": "f644d67a-7a0e-4617-a2df-6f6b16253329",
   "metadata": {},
   "outputs": [],
   "source": [
    "if auc_1 < auc_2:\n",
    "    cat = list(set(important_cols).intersection(set(features['cat'])))\n",
    "    test_data = Pool(\n",
    "        data=data_proc.train.xs[important_cols],\n",
    "        label=None,\n",
    "        cat_features=cat,\n",
    "    )\n",
    "    y_test_hat = model2.predict_proba(test_data)[:,1]\n",
    "else:\n",
    "    cat = features['cat']\n",
    "    test_data = Pool(\n",
    "        data=data_proc.train.xs,\n",
    "        label=None,\n",
    "        cat_features= cat\n",
    "    )\n",
    "    y_test_hat = model.predict_proba(test_data)[:,1]"
   ]
  },
  {
   "cell_type": "code",
   "execution_count": 37,
   "id": "61af404e-be84-42a1-b943-d1672c80584d",
   "metadata": {},
   "outputs": [
    {
     "data": {
      "text/plain": [
       "(506691,)"
      ]
     },
     "execution_count": 37,
     "metadata": {},
     "output_type": "execute_result"
    }
   ],
   "source": [
    "y_test_hat.shape"
   ]
  },
  {
   "cell_type": "code",
   "execution_count": 38,
   "id": "9c100d80-4845-4722-a586-c3b6bb223ad0",
   "metadata": {},
   "outputs": [],
   "source": [
    "df_test['isFraud'] = y_test_hat"
   ]
  },
  {
   "cell_type": "code",
   "execution_count": 39,
   "id": "526611df-a5d0-4914-a181-bfc9585578d4",
   "metadata": {},
   "outputs": [
    {
     "data": {
      "text/plain": [
       "False"
      ]
     },
     "execution_count": 39,
     "metadata": {},
     "output_type": "execute_result"
    }
   ],
   "source": [
    "df_test[['TransactionID']].duplicated().any()"
   ]
  },
  {
   "cell_type": "code",
   "execution_count": 40,
   "id": "db42035c-4c3a-4e57-9f86-0e8b3f552e41",
   "metadata": {},
   "outputs": [
    {
     "data": {
      "text/plain": [
       "(506691, 437)"
      ]
     },
     "execution_count": 40,
     "metadata": {},
     "output_type": "execute_result"
    }
   ],
   "source": [
    "df_test.shape"
   ]
  },
  {
   "cell_type": "markdown",
   "id": "ccd565cf-60f5-4e9f-b48d-f6dcf306b57a",
   "metadata": {},
   "source": [
    "## Submit the result to Kaggle for evaluation"
   ]
  },
  {
   "cell_type": "code",
   "execution_count": 41,
   "id": "306d5390-1e42-4f6f-adff-2ef6c2038a85",
   "metadata": {},
   "outputs": [],
   "source": [
    "df_test[['TransactionID', 'isFraud']].to_csv('data/submission_catboost_v1.csv', index=False)"
   ]
  },
  {
   "cell_type": "code",
   "execution_count": 42,
   "id": "7a5d08a3-383a-4475-82a1-4efea73ca890",
   "metadata": {},
   "outputs": [
    {
     "name": "stdout",
     "output_type": "stream",
     "text": [
      "100%|██████████████████████████████████████| 13.4M/13.4M [00:10<00:00, 1.32MB/s]\n",
      "Successfully submitted to IEEE-CIS Fraud Detection"
     ]
    }
   ],
   "source": [
    "!kaggle competitions submit -c ieee-fraud-detection -f data/submission_catboost_v1.csv -m \"Submission without any deep feature engineering. just using fastai and catboost\""
   ]
  },
  {
   "cell_type": "code",
   "execution_count": null,
   "id": "0f49ff09-82c2-4614-bb22-05391d1c664c",
   "metadata": {},
   "outputs": [],
   "source": [
    "import gc\n",
    "gc.collect()"
   ]
  }
 ],
 "metadata": {
  "kernelspec": {
   "display_name": "Python 3",
   "language": "python",
   "name": "python3"
  },
  "language_info": {
   "codemirror_mode": {
    "name": "ipython",
    "version": 3
   },
   "file_extension": ".py",
   "mimetype": "text/x-python",
   "name": "python",
   "nbconvert_exporter": "python",
   "pygments_lexer": "ipython3",
   "version": "3.8.10"
  }
 },
 "nbformat": 4,
 "nbformat_minor": 5
}
