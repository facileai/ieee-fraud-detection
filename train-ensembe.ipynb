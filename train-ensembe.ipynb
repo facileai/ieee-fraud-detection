{
 "cells": [
  {
   "cell_type": "markdown",
   "id": "e8a81793-3383-4460-a821-59379edc9dc0",
   "metadata": {},
   "source": [
    "# IEEE- FRAUD DETECTION USING AN ENSEMBLE OF CATBOOS AND XGBOOST"
   ]
  },
  {
   "cell_type": "markdown",
   "id": "01d3f5cb-c8ea-49a6-bc59-ee6df0e1e968",
   "metadata": {},
   "source": [
    "## Import packages"
   ]
  },
  {
   "cell_type": "code",
   "execution_count": 1,
   "id": "fb4f4198-eb18-419a-a75c-258842870f85",
   "metadata": {},
   "outputs": [],
   "source": [
    "import pandas as pd\n",
    "import numpy as np\n",
    "from utils.data import get_data, export, balanceSample\n",
    "import json\n",
    "import pickle"
   ]
  },
  {
   "cell_type": "markdown",
   "id": "d5d9bcc2-a288-4af6-b39f-8fadcd8ee2bb",
   "metadata": {},
   "source": [
    "## Load training, test datasets & artifacts"
   ]
  },
  {
   "cell_type": "code",
   "execution_count": 2,
   "id": "6d80eccb-0aed-4459-8e33-8b30c870fdc8",
   "metadata": {},
   "outputs": [],
   "source": [
    "X_train, y_train, _, _,_ = get_data('data/train-balance.csv', hp=False)"
   ]
  },
  {
   "cell_type": "code",
   "execution_count": 3,
   "id": "5012e049-1a84-4aca-9034-f8c9ebd9ff39",
   "metadata": {},
   "outputs": [],
   "source": [
    "df_test = pd.read_csv('data/test.csv', low_memory=False)"
   ]
  },
  {
   "cell_type": "code",
   "execution_count": 4,
   "id": "e8ea1ec8-f857-49da-a4cf-428e06160987",
   "metadata": {},
   "outputs": [],
   "source": [
    "with open('artifacts/features.txt') as json_file:\n",
    "        features = json.load(json_file)"
   ]
  },
  {
   "cell_type": "code",
   "execution_count": 5,
   "id": "d5597a8a-3c77-47e2-ac71-757e8f8f1a1f",
   "metadata": {},
   "outputs": [],
   "source": [
    "with open('artifacts/data-proc.pkl', 'rb') as preproc_file:\n",
    "    preproc = pickle.load(preproc_file)\n",
    "\n",
    "    data_proc = preproc.train.new(df_test)\n",
    "    data_proc.process()"
   ]
  },
  {
   "cell_type": "markdown",
   "id": "446bec9e-06b7-46f5-80b9-e9d5e5ef2d56",
   "metadata": {},
   "source": [
    "## Train with Catboost"
   ]
  },
  {
   "cell_type": "markdown",
   "id": "0d87e2c6-214d-4c42-ba2f-1bd829ce940b",
   "metadata": {},
   "source": [
    "Since this is for final submission, we train for the entire dataset, training + validation combined"
   ]
  },
  {
   "cell_type": "code",
   "execution_count": 7,
   "id": "990a3968-4551-4b21-9ab7-120c6accd3e7",
   "metadata": {},
   "outputs": [],
   "source": [
    "from catboost import Pool, CatBoostClassifier\n",
    "from sklearn.metrics import accuracy_score, roc_auc_score"
   ]
  },
  {
   "cell_type": "code",
   "execution_count": 8,
   "id": "6d575e03-c1d8-4acf-9f30-5c6a25d54d81",
   "metadata": {},
   "outputs": [],
   "source": [
    "train_data = Pool(\n",
    "        data=X_train,\n",
    "        label=y_train,\n",
    "        cat_features=features['cat'],\n",
    "    )\n",
    "    \n",
    "test_data = Pool(\n",
    "    data=data_proc.train.xs,\n",
    "    label=None,\n",
    "    cat_features=features['cat'],\n",
    ")"
   ]
  },
  {
   "cell_type": "code",
   "execution_count": 9,
   "id": "7963c855-fdb4-45b7-9aa9-ef938faf0b2f",
   "metadata": {},
   "outputs": [],
   "source": [
    "with open('artifacts/catboost-params.txt') as json_file:\n",
    "        catboost_params = json.load(json_file)"
   ]
  },
  {
   "cell_type": "code",
   "execution_count": 10,
   "id": "c2cc1a6f-ebdd-4f8b-9e38-5a8653935992",
   "metadata": {},
   "outputs": [],
   "source": [
    "def trainCatboost(params,train_data, plot_status=False):\n",
    "    \n",
    "    model = CatBoostClassifier(**params)\n",
    "\n",
    "    model.fit(train_data,plot=plot_status, verbose=False)\n",
    "\n",
    "    predictions = model.predict(train_data)\n",
    "\n",
    "\n",
    "    auc = roc_auc_score(train_data.get_label(), predictions)\n",
    "\n",
    "    accuracy = accuracy_score(train_data.get_label(), predictions)\n",
    "\n",
    "    print(f'Average AUC: {auc}, Average Accuracy: {accuracy}')\n",
    "    return model"
   ]
  },
  {
   "cell_type": "code",
   "execution_count": 11,
   "id": "a692d1e1-1eb9-46e9-97dd-7b4384f9bf8e",
   "metadata": {},
   "outputs": [
    {
     "data": {
      "application/vnd.jupyter.widget-view+json": {
       "model_id": "61d093531c0c4315934a02059fc981fe",
       "version_major": 2,
       "version_minor": 0
      },
      "text/plain": [
       "MetricVisualizer(layout=Layout(align_self='stretch', height='500px'))"
      ]
     },
     "metadata": {},
     "output_type": "display_data"
    },
    {
     "name": "stdout",
     "output_type": "stream",
     "text": [
      "Average AUC: 0.8554527143651255, Average Accuracy: 0.8929196851554867\n"
     ]
    }
   ],
   "source": [
    "catboost_model = trainCatboost(catboost_params,train_data, plot_status=True)"
   ]
  },
  {
   "cell_type": "code",
   "execution_count": 12,
   "id": "6c0c7a6e-0608-46e5-9da1-ecd745d36171",
   "metadata": {},
   "outputs": [],
   "source": [
    "catboost_test_predictions = catboost_model.predict_proba(test_data)[:,1]"
   ]
  },
  {
   "cell_type": "markdown",
   "id": "28d542d9-29aa-4e08-b83f-ea8859cc7000",
   "metadata": {},
   "source": [
    "## Train with Xgboost"
   ]
  },
  {
   "cell_type": "markdown",
   "id": "163c9c26-5576-49d7-8d4b-29c8fc8e5355",
   "metadata": {},
   "source": [
    "Since this is for final submission, we train for the entire dataset, training + validation combined"
   ]
  },
  {
   "cell_type": "code",
   "execution_count": 13,
   "id": "a3725695-e8f8-4ee7-9253-32bb1b4a9433",
   "metadata": {},
   "outputs": [],
   "source": [
    "from xgboost import XGBClassifier"
   ]
  },
  {
   "cell_type": "markdown",
   "id": "f0e92ebf-bf26-4a14-96c1-308f59ca3181",
   "metadata": {},
   "source": [
    "Training with only important features showed no degradation in performance for Xgboost. let's use only important features to train for all the data for quick training"
   ]
  },
  {
   "cell_type": "code",
   "execution_count": 14,
   "id": "ba2626ac-e58b-4a9b-97db-4491d4ba9330",
   "metadata": {},
   "outputs": [],
   "source": [
    "with open('artifacts/xgboost-feature-importance.txt') as json_file:\n",
    "        features = json.load(json_file)"
   ]
  },
  {
   "cell_type": "code",
   "execution_count": 15,
   "id": "4e491ada-1725-4118-95f0-396ee7324b41",
   "metadata": {},
   "outputs": [],
   "source": [
    "with open('artifacts/xgboost-params.txt') as json_file:\n",
    "        xgboost_params = json.load(json_file)"
   ]
  },
  {
   "cell_type": "code",
   "execution_count": 16,
   "id": "a372bf75-3e76-4f09-a809-acb23920610a",
   "metadata": {},
   "outputs": [],
   "source": [
    "def trainXgboost(params,X_train, y_train):\n",
    "    \n",
    "    model = XGBClassifier(**params)\n",
    "\n",
    "    model.fit(X_train, y_train, verbose=False, eval_metric='auc')\n",
    "\n",
    "    predictions = model.predict(X_train)\n",
    "\n",
    "\n",
    "    auc = roc_auc_score(y_train, predictions)\n",
    "\n",
    "    accuracy = accuracy_score(y_train, predictions)\n",
    "\n",
    "    print(f'Average AUC: {auc}, Average Accuracy: {accuracy}')\n",
    "    return model"
   ]
  },
  {
   "cell_type": "code",
   "execution_count": 18,
   "id": "51b7c8c6-0eeb-4f77-8758-0818839373e9",
   "metadata": {},
   "outputs": [
    {
     "name": "stderr",
     "output_type": "stream",
     "text": [
      "/opt/anaconda3/envs/ieee/lib/python3.8/site-packages/xgboost/sklearn.py:1146: UserWarning: The use of label encoder in XGBClassifier is deprecated and will be removed in a future release. To remove this warning, do the following: 1) Pass option use_label_encoder=False when constructing XGBClassifier object; and 2) Encode your labels (y) as integers starting with 0, i.e. 0, 1, 2, ..., [num_class - 1].\n",
      "  warnings.warn(label_encoder_deprecation_msg, UserWarning)\n"
     ]
    },
    {
     "name": "stdout",
     "output_type": "stream",
     "text": [
      "Average AUC: 0.9090151040329996, Average Accuracy: 0.9239985990525171\n"
     ]
    }
   ],
   "source": [
    "xgboost_model = trainXgboost(xgboost_params, X_train[features['important']],y_train)"
   ]
  },
  {
   "cell_type": "code",
   "execution_count": 19,
   "id": "3da105e6-3079-48a4-a307-a9d12147e1a5",
   "metadata": {},
   "outputs": [],
   "source": [
    "xgboost_test_predictions = xgboost_model.predict_proba(data_proc.train.xs[features['important']])[:,1]"
   ]
  },
  {
   "cell_type": "markdown",
   "id": "79532b66-629b-43db-9a31-4dd4f9245d89",
   "metadata": {},
   "source": [
    "## Ensemble & submission"
   ]
  },
  {
   "cell_type": "code",
   "execution_count": 20,
   "id": "d300293f-d3e8-405b-9cc2-7bb2384aa73f",
   "metadata": {},
   "outputs": [],
   "source": [
    "df_test['isFraud'] = (catboost_test_predictions + xgboost_test_predictions) / 2"
   ]
  },
  {
   "cell_type": "code",
   "execution_count": 21,
   "id": "d18c582b-57b9-4037-8fab-c52aa539f4d3",
   "metadata": {},
   "outputs": [
    {
     "data": {
      "text/plain": [
       "False"
      ]
     },
     "execution_count": 21,
     "metadata": {},
     "output_type": "execute_result"
    }
   ],
   "source": [
    "df_test[['TransactionID']].duplicated().any()"
   ]
  },
  {
   "cell_type": "code",
   "execution_count": 22,
   "id": "10dbbe07-b887-407c-a6ff-5c36efee21b1",
   "metadata": {},
   "outputs": [],
   "source": [
    "df_test[['TransactionID', 'isFraud']].to_csv('data/submission_ensemble_v1.csv', index=False)"
   ]
  },
  {
   "cell_type": "code",
   "execution_count": 23,
   "id": "0dde32fd-22d7-439e-b61c-e6b1a87c448f",
   "metadata": {},
   "outputs": [
    {
     "name": "stdout",
     "output_type": "stream",
     "text": [
      "100%|██████████████████████████████████████| 13.3M/13.3M [00:09<00:00, 1.48MB/s]\n",
      "Successfully submitted to IEEE-CIS Fraud Detection"
     ]
    }
   ],
   "source": [
    "!kaggle competitions submit -c ieee-fraud-detection -f data/submission_ensemble_v1.csv -m \"Submission without any deep feature engineering. just using an ensemble of \\\n",
    "xgboost and catboost\""
   ]
  },
  {
   "cell_type": "code",
   "execution_count": 24,
   "id": "600013fb-9ddf-45b0-9a35-1540c961f5e6",
   "metadata": {},
   "outputs": [
    {
     "data": {
      "text/plain": [
       "762"
      ]
     },
     "execution_count": 24,
     "metadata": {},
     "output_type": "execute_result"
    }
   ],
   "source": [
    "import gc\n",
    "gc.collect()"
   ]
  },
  {
   "cell_type": "code",
   "execution_count": null,
   "id": "51747d3c-e11f-4379-928c-ff581d1dcf99",
   "metadata": {},
   "outputs": [],
   "source": []
  }
 ],
 "metadata": {
  "kernelspec": {
   "display_name": "Python 3",
   "language": "python",
   "name": "python3"
  },
  "language_info": {
   "codemirror_mode": {
    "name": "ipython",
    "version": 3
   },
   "file_extension": ".py",
   "mimetype": "text/x-python",
   "name": "python",
   "nbconvert_exporter": "python",
   "pygments_lexer": "ipython3",
   "version": "3.8.10"
  }
 },
 "nbformat": 4,
 "nbformat_minor": 5
}
