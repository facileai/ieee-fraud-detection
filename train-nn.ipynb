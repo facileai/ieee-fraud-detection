{
 "cells": [
  {
   "cell_type": "markdown",
   "id": "cac3c41d-780d-44c4-a3b2-13923e8c6e99",
   "metadata": {},
   "source": [
    "# IEEE- FRAUD DETECTION USING FULLY CONNECTED NEURAL NETWORKS AND FASTAI"
   ]
  },
  {
   "cell_type": "markdown",
   "id": "d6762154-22a1-48d0-840c-1c93429e69b5",
   "metadata": {},
   "source": [
    "## Load packages"
   ]
  },
  {
   "cell_type": "code",
   "execution_count": 1,
   "id": "89bc8db1-c608-4308-8bdd-43ea8db3ea5a",
   "metadata": {},
   "outputs": [],
   "source": [
    "from fastai.tabular.all import *\n",
    "from utils.data import export\n",
    "from sklearn.metrics import roc_auc_score"
   ]
  },
  {
   "cell_type": "markdown",
   "id": "05406301-23d7-4b42-b9b6-3e5da7257ce5",
   "metadata": {},
   "source": [
    "## Load the dataset & artifacts"
   ]
  },
  {
   "cell_type": "code",
   "execution_count": 2,
   "id": "c5c9b166-3735-40e3-8dd3-7da2ca2dce7d",
   "metadata": {},
   "outputs": [],
   "source": [
    "df = pd.read_csv('data/train-balance.csv', low_memory=False)\n",
    "\n",
    "with open('artifacts/features.txt') as json_file:\n",
    "        features = json.load(json_file)\n",
    "\n",
    "cont = features['cont']\n",
    "cat = features['cat']\n",
    "dep_var = features['dep_var']\n",
    "cols = cat+cont+[dep_var]\n",
    "\n",
    "df = df[cols]\n",
    "df[dep_var] = df[dep_var].astype(str)\n",
    "df = df.sort_values(by=['TransactionDT'])\n",
    "pct = int(df.shape[0]*(100-(0.2*100))/100)\n",
    "splits = (list(df[:pct].index),list(df[pct:].index))\n",
    "\n",
    "procs_nn = [Categorify, FillMissing, Normalize]\n",
    "to_nn = TabularPandas(df, procs_nn, cat, cont, splits=splits, y_names=dep_var)\n",
    "to_nn.export('artifacts/to_nn.pkl')"
   ]
  },
  {
   "cell_type": "markdown",
   "id": "cfd8f364-3559-4811-8901-c7bbb8fcec36",
   "metadata": {},
   "source": [
    "## Build the model"
   ]
  },
  {
   "cell_type": "code",
   "execution_count": 3,
   "id": "479a1c47-990c-4f58-9214-36cd3269d4ce",
   "metadata": {},
   "outputs": [],
   "source": [
    "dls = to_nn.dataloaders(1024)"
   ]
  },
  {
   "cell_type": "code",
   "execution_count": 4,
   "id": "1e95217a-bc08-41b1-bc0e-6f0685860cff",
   "metadata": {},
   "outputs": [],
   "source": [
    "def roc(inp, targ):\n",
    "    \"Simple wrapper around scikit's roc_auc_score function for regression problems\"\n",
    "    inp,targ = flatten_check(inp,targ)\n",
    "    return roc_auc_score(targ.cpu().numpy(), inp.cpu().numpy())"
   ]
  },
  {
   "cell_type": "code",
   "execution_count": 5,
   "id": "17722fe7-15a9-432a-ba57-7136fab59ceb",
   "metadata": {},
   "outputs": [],
   "source": [
    "learn = tabular_learner(dls, layers=[200,100], metrics=accuracy)"
   ]
  },
  {
   "cell_type": "code",
   "execution_count": 6,
   "id": "cca3622f-4659-4b42-9f55-b42fbc219099",
   "metadata": {},
   "outputs": [
    {
     "data": {
      "text/html": [],
      "text/plain": [
       "<IPython.core.display.HTML object>"
      ]
     },
     "metadata": {},
     "output_type": "display_data"
    },
    {
     "data": {
      "text/plain": [
       "SuggestedLRs(lr_min=0.04365158379077912, lr_steep=0.007585775572806597)"
      ]
     },
     "execution_count": 6,
     "metadata": {},
     "output_type": "execute_result"
    },
    {
     "data": {
      "image/png": "[encoded data removed]",
      "text/plain": [
       "<Figure size 432x288 with 1 Axes>"
      ]
     },
     "metadata": {
      "needs_background": "light"
     },
     "output_type": "display_data"
    }
   ],
   "source": [
    "learn.lr_find()"
   ]
  },
  {
   "cell_type": "code",
   "execution_count": 7,
   "id": "e7ff91fe-bd4b-4d5c-b7d2-8725584abf0f",
   "metadata": {},
   "outputs": [
    {
     "data": {
      "text/html": [
       "<table border=\"1\" class=\"dataframe\">\n",
       "  <thead>\n",
       "    <tr style=\"text-align: left;\">\n",
       "      <th>epoch</th>\n",
       "      <th>train_loss</th>\n",
       "      <th>valid_loss</th>\n",
       "      <th>accuracy</th>\n",
       "      <th>time</th>\n",
       "    </tr>\n",
       "  </thead>\n",
       "  <tbody>\n",
       "    <tr>\n",
       "      <td>0</td>\n",
       "      <td>0.404596</td>\n",
       "      <td>0.348815</td>\n",
       "      <td>0.867834</td>\n",
       "      <td>00:38</td>\n",
       "    </tr>\n",
       "    <tr>\n",
       "      <td>1</td>\n",
       "      <td>0.327149</td>\n",
       "      <td>0.281886</td>\n",
       "      <td>0.884240</td>\n",
       "      <td>00:38</td>\n",
       "    </tr>\n",
       "    <tr>\n",
       "      <td>2</td>\n",
       "      <td>0.270266</td>\n",
       "      <td>0.252202</td>\n",
       "      <td>0.902120</td>\n",
       "      <td>00:38</td>\n",
       "    </tr>\n",
       "    <tr>\n",
       "      <td>3</td>\n",
       "      <td>0.223370</td>\n",
       "      <td>0.234762</td>\n",
       "      <td>0.910138</td>\n",
       "      <td>00:38</td>\n",
       "    </tr>\n",
       "    <tr>\n",
       "      <td>4</td>\n",
       "      <td>0.182491</td>\n",
       "      <td>0.235126</td>\n",
       "      <td>0.911429</td>\n",
       "      <td>00:38</td>\n",
       "    </tr>\n",
       "    <tr>\n",
       "      <td>5</td>\n",
       "      <td>0.149908</td>\n",
       "      <td>0.241877</td>\n",
       "      <td>0.912719</td>\n",
       "      <td>00:38</td>\n",
       "    </tr>\n",
       "  </tbody>\n",
       "</table>"
      ],
      "text/plain": [
       "<IPython.core.display.HTML object>"
      ]
     },
     "metadata": {},
     "output_type": "display_data"
    }
   ],
   "source": [
    "learn.fit_one_cycle(6, 1e-2)"
   ]
  },
  {
   "cell_type": "code",
   "execution_count": 8,
   "id": "cf39d82e-1a17-4656-8ddc-f81ec7a9afb0",
   "metadata": {},
   "outputs": [
    {
     "data": {
      "text/html": [],
      "text/plain": [
       "<IPython.core.display.HTML object>"
      ]
     },
     "metadata": {},
     "output_type": "display_data"
    }
   ],
   "source": [
    "probs,predictions = learn.get_preds()"
   ]
  },
  {
   "cell_type": "code",
   "execution_count": 9,
   "id": "85b30c39-e08b-40d4-a89f-0c483745eb42",
   "metadata": {},
   "outputs": [
    {
     "data": {
      "text/plain": [
       "0.8786268458648825"
      ]
     },
     "execution_count": 9,
     "metadata": {},
     "output_type": "execute_result"
    }
   ],
   "source": [
    "roc_auc_score(torch.flatten(predictions).numpy(),probs.argmax(dim=-1))"
   ]
  },
  {
   "cell_type": "markdown",
   "id": "e5c87455-9e58-4a5d-a10b-c779c601f631",
   "metadata": {},
   "source": [
    "## Fit the model to the test set"
   ]
  },
  {
   "cell_type": "code",
   "execution_count": 10,
   "id": "4b299abc-8665-43a5-8f51-4ce405c37d19",
   "metadata": {},
   "outputs": [],
   "source": [
    "df_test = pd.read_csv('data/test.csv', low_memory=False)"
   ]
  },
  {
   "cell_type": "code",
   "execution_count": 11,
   "id": "f8fa04ff-8db7-42b4-b747-e3463d20ede2",
   "metadata": {},
   "outputs": [],
   "source": [
    "to_tst = to_nn.new(df_test)\n",
    "to_tst.process()\n",
    "tst_dl = dls.valid.new(to_tst)"
   ]
  },
  {
   "cell_type": "code",
   "execution_count": 12,
   "id": "dd456b27-66a9-46d7-a84c-90c7c0a38b8e",
   "metadata": {
    "tags": []
   },
   "outputs": [
    {
     "data": {
      "text/html": [],
      "text/plain": [
       "<IPython.core.display.HTML object>"
      ]
     },
     "metadata": {},
     "output_type": "display_data"
    }
   ],
   "source": [
    "preds, _= learn.get_preds(dl=tst_dl)"
   ]
  },
  {
   "cell_type": "code",
   "execution_count": 13,
   "id": "8ea5812a-e6d8-4db7-9523-846383ceeae1",
   "metadata": {
    "tags": []
   },
   "outputs": [],
   "source": [
    "df_test['isFraud'] = preds[:,1].cpu().numpy()"
   ]
  },
  {
   "cell_type": "code",
   "execution_count": 14,
   "id": "ab64a4e8-396f-40fc-8b7a-e03c71d3cb23",
   "metadata": {},
   "outputs": [
    {
     "data": {
      "text/html": [
       "<div>\n",
       "<style scoped>\n",
       "    .dataframe tbody tr th:only-of-type {\n",
       "        vertical-align: middle;\n",
       "    }\n",
       "\n",
       "    .dataframe tbody tr th {\n",
       "        vertical-align: top;\n",
       "    }\n",
       "\n",
       "    .dataframe thead th {\n",
       "        text-align: right;\n",
       "    }\n",
       "</style>\n",
       "<table border=\"1\" class=\"dataframe\">\n",
       "  <thead>\n",
       "    <tr style=\"text-align: right;\">\n",
       "      <th></th>\n",
       "      <th>TransactionID</th>\n",
       "      <th>TransactionDT</th>\n",
       "      <th>TransactionAmt</th>\n",
       "      <th>ProductCD</th>\n",
       "      <th>card1</th>\n",
       "      <th>card2</th>\n",
       "      <th>card3</th>\n",
       "      <th>card4</th>\n",
       "      <th>card5</th>\n",
       "      <th>card6</th>\n",
       "      <th>...</th>\n",
       "      <th>id_35</th>\n",
       "      <th>id_36</th>\n",
       "      <th>id_37</th>\n",
       "      <th>id_38</th>\n",
       "      <th>DeviceType</th>\n",
       "      <th>DeviceInfo</th>\n",
       "      <th>day</th>\n",
       "      <th>hour</th>\n",
       "      <th>id_31_v</th>\n",
       "      <th>isFraud</th>\n",
       "    </tr>\n",
       "  </thead>\n",
       "  <tbody>\n",
       "  </tbody>\n",
       "</table>\n",
       "<p>0 rows × 437 columns</p>\n",
       "</div>"
      ],
      "text/plain": [
       "Empty DataFrame\n",
       "Columns: [TransactionID, TransactionDT, TransactionAmt, ProductCD, card1, card2, card3, card4, card5, card6, addr1, addr2, dist1, dist2, P_emaildomain, R_emaildomain, C1, C2, C3, C4, C5, C6, C7, C8, C9, C10, C11, C12, C13, C14, D1, D2, D3, D4, D5, D6, D7, D8, D9, D10, D11, D12, D13, D14, D15, M1, M2, M3, M4, M5, M6, M7, M8, M9, V1, V2, V3, V4, V5, V6, V7, V8, V9, V10, V11, V12, V13, V14, V15, V16, V17, V18, V19, V20, V21, V22, V23, V24, V25, V26, V27, V28, V29, V30, V31, V32, V33, V34, V35, V36, V37, V38, V39, V40, V41, V42, V43, V44, V45, V46, ...]\n",
       "Index: []\n",
       "\n",
       "[0 rows x 437 columns]"
      ]
     },
     "execution_count": 14,
     "metadata": {},
     "output_type": "execute_result"
    }
   ],
   "source": [
    "df_test[df_test['TransactionID'].duplicated()]"
   ]
  },
  {
   "cell_type": "markdown",
   "id": "e004cb2c-f53c-44c4-9c95-0c1008bb1a71",
   "metadata": {},
   "source": [
    "## Submit the result to Kaggle for evaluation"
   ]
  },
  {
   "cell_type": "code",
   "execution_count": 15,
   "id": "066e41a2-96c4-4922-b9e6-de18ad2ac29a",
   "metadata": {},
   "outputs": [],
   "source": [
    "df_test[['TransactionID', 'isFraud']].to_csv('data/submission_nn_v1.csv', index=False)"
   ]
  },
  {
   "cell_type": "code",
   "execution_count": 16,
   "id": "ca106d14-430e-4449-884c-78dd9c018115",
   "metadata": {},
   "outputs": [
    {
     "name": "stdout",
     "output_type": "stream",
     "text": [
      "100%|██████████████████████████████████████| 9.73M/9.73M [00:08<00:00, 1.26MB/s]\n",
      "Successfully submitted to IEEE-CIS Fraud Detection"
     ]
    }
   ],
   "source": [
    "!kaggle competitions submit -c ieee-fraud-detection -f data/submission_nn_v1.csv -m \"first submission without any deep feature engineering. just using fastai and xgboost\""
   ]
  },
  {
   "cell_type": "code",
   "execution_count": null,
   "id": "b9510d01-5dd9-46d1-882c-85d3025cf14e",
   "metadata": {},
   "outputs": [],
   "source": []
  }
 ],
 "metadata": {
  "kernelspec": {
   "display_name": "Python 3",
   "language": "python",
   "name": "python3"
  },
  "language_info": {
   "codemirror_mode": {
    "name": "ipython",
    "version": 3
   },
   "file_extension": ".py",
   "mimetype": "text/x-python",
   "name": "python",
   "nbconvert_exporter": "python",
   "pygments_lexer": "ipython3",
   "version": "3.8.10"
  }
 },
 "nbformat": 4,
 "nbformat_minor": 5
}
