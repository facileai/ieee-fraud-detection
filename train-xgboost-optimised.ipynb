{
 "cells": [
  {
   "cell_type": "markdown",
   "id": "f3e42d5d-a3fe-403b-85b9-71432f4f5400",
   "metadata": {},
   "source": [
    "# IEEE- FRAUD DETECTION USING XGBOOST AND FASTAI"
   ]
  },
  {
   "cell_type": "markdown",
   "id": "29ced64e-1f6f-402d-b1e1-55353ae9f059",
   "metadata": {},
   "source": [
    "## Load packages"
   ]
  },
  {
   "cell_type": "code",
   "execution_count": 1,
   "id": "29c2d257-9b70-4b32-b395-0514ca0afc18",
   "metadata": {},
   "outputs": [],
   "source": [
    "import pickle\n",
    "import pandas as pd\n",
    "import numpy as np\n",
    "from utils.data import get_data, export, balanceSample\n",
    "from functools import partial\n",
    "import optuna\n",
    "from optuna.samplers import TPESampler\n",
    "import json\n",
    "# import random"
   ]
  },
  {
   "cell_type": "markdown",
   "id": "cebb2c13-33e8-405b-9ff0-87672a18f0e6",
   "metadata": {},
   "source": [
    "## Load the dataset & artifacts"
   ]
  },
  {
   "cell_type": "code",
   "execution_count": 2,
   "id": "a45a1c67-4af1-4209-be8f-799adf08c71b",
   "metadata": {},
   "outputs": [],
   "source": [
    "X_train, y_train, X_valid, y_valid,_ = get_data('data/train-balance.csv', valid_pct=0.2,hp=True)"
   ]
  },
  {
   "cell_type": "code",
   "execution_count": 3,
   "id": "b60fcb08-b10f-4f98-bd59-00a0c00055bd",
   "metadata": {},
   "outputs": [],
   "source": [
    "# X_valid.to_csv('data/X_valid.csv', index=False)\n",
    "# y_valid.to_csv('data/y_valid.csv', index=False)"
   ]
  },
  {
   "cell_type": "markdown",
   "id": "bebd7393-86cd-4f9d-9163-4acb3908cefe",
   "metadata": {},
   "source": [
    "## Xgboost model"
   ]
  },
  {
   "cell_type": "code",
   "execution_count": 4,
   "id": "f16e9037-a325-4254-aad7-da710da0572b",
   "metadata": {},
   "outputs": [],
   "source": [
    "from xgboost import XGBClassifier\n",
    "from sklearn.metrics import accuracy_score, roc_auc_score"
   ]
  },
  {
   "cell_type": "markdown",
   "id": "4bf868bc-7e9f-4e92-aca6-3337d694d0f0",
   "metadata": {},
   "source": [
    "### Define the training function"
   ]
  },
  {
   "cell_type": "code",
   "execution_count": 5,
   "id": "5f0f6050-e873-458d-8ea6-d57346805b4b",
   "metadata": {},
   "outputs": [],
   "source": [
    "def train(params,X_train,y_train,X_valid,y_valid):\n",
    "    model = XGBClassifier(**params)\n",
    "\n",
    "\n",
    "    model.fit(\n",
    "        X_train, \n",
    "        y_train, \n",
    "        eval_metric='auc', \n",
    "        eval_set=[(X_valid, y_valid)], \n",
    "        verbose=False, \n",
    "        early_stopping_rounds = 100\n",
    "    )\n",
    "\n",
    "    predictions = model.predict(X_valid)\n",
    "\n",
    "\n",
    "    auc = roc_auc_score(y_valid, predictions)\n",
    "\n",
    "    accuracy = accuracy_score(y_valid, predictions)\n",
    "\n",
    "    print(f'Average AUC: {auc}, Average Accuracy: {accuracy}')\n",
    "    return model"
   ]
  },
  {
   "cell_type": "markdown",
   "id": "2eb06aca-981d-4926-af1e-f03b6f2dc413",
   "metadata": {},
   "source": [
    "### Define the objective function to be maximized by Optuna"
   ]
  },
  {
   "cell_type": "code",
   "execution_count": 6,
   "id": "e9a46aa7-1e20-48ee-9cc9-152068493b64",
   "metadata": {},
   "outputs": [],
   "source": [
    "def objective(trial, X_train, y_train,X_valid,y_valid):\n",
    "\n",
    "    params = {\n",
    "        'booster' : trial.suggest_categorical('booster', ['gbtree']),\n",
    "        'subsample' : trial.suggest_float('subsample', 0.5, 0.7),\n",
    "        'colsample_bytree' : trial.suggest_float('colsample_bytree', 0.8, 1),\n",
    "        'n_estimators' : trial.suggest_int('n_estimators', 200, 500),\n",
    "        'objective' : 'binary:logistic',\n",
    "        'scale_pos_weight' :trial.suggest_int('scale_pos_weight', 1, 20),\n",
    "        'max_depth' : trial.suggest_int('max_depth', 14, 20),\n",
    "        'min_child_weight' : trial.suggest_float('min_child_weight', 14, 17),\n",
    "        'learning_rate' : trial.suggest_float('learning_rate', 0.004, 0.007)\n",
    "    }\n",
    "        \n",
    "    X_train, y_train = balanceSample(X_train,y_train)\n",
    "      \n",
    "    model = train(params,  X_train, y_train,X_valid,y_valid)\n",
    "    predictions = model.predict(X_valid)\n",
    "\n",
    "\n",
    "    auc = roc_auc_score(y_valid, predictions)\n",
    "\n",
    "    return auc"
   ]
  },
  {
   "cell_type": "markdown",
   "id": "b4a4f36c-2286-43af-bacd-d98d4c684b90",
   "metadata": {},
   "source": [
    "### Run Hyperparameter optimization with Optuna"
   ]
  },
  {
   "cell_type": "code",
   "execution_count": 7,
   "id": "249d6016-2f3f-4ccc-aed9-e1e90f53515f",
   "metadata": {
    "tags": []
   },
   "outputs": [
    {
     "name": "stderr",
     "output_type": "stream",
     "text": [
      "\u001b[32m[I 2021-06-20 02:43:24,890]\u001b[0m A new study created in memory with name: no-name-5bb9bc31-ed66-4870-bd28-5c9d61a43ba8\u001b[0m\n"
     ]
    },
    {
     "name": "stdout",
     "output_type": "stream",
     "text": [
      "X shape : (29587, 817), y shape: (29587,)\n"
     ]
    },
    {
     "name": "stderr",
     "output_type": "stream",
     "text": [
      "/opt/anaconda3/envs/ieee/lib/python3.8/site-packages/xgboost/sklearn.py:1146: UserWarning: The use of label encoder in XGBClassifier is deprecated and will be removed in a future release. To remove this warning, do the following: 1) Pass option use_label_encoder=False when constructing XGBClassifier object; and 2) Encode your labels (y) as integers starting with 0, i.e. 0, 1, 2, ..., [num_class - 1].\n",
      "  warnings.warn(label_encoder_deprecation_msg, UserWarning)\n",
      "\u001b[32m[I 2021-06-20 02:47:19,692]\u001b[0m Trial 0 finished with value: 0.78481480585516 and parameters: {'booster': 'gbtree', 'subsample': 0.5749080237694725, 'colsample_bytree': 0.9901428612819833, 'n_estimators': 420, 'scale_pos_weight': 12, 'max_depth': 15, 'min_child_weight': 14.467983561008609, 'learning_rate': 0.004174250836504598}. Best is trial 0 with value: 0.78481480585516.\u001b[0m\n"
     ]
    },
    {
     "name": "stdout",
     "output_type": "stream",
     "text": [
      "Average AUC: 0.78481480585516, Average Accuracy: 0.7014746543778801\n",
      "X shape : (24285, 817), y shape: (24285,)\n"
     ]
    },
    {
     "name": "stderr",
     "output_type": "stream",
     "text": [
      "/opt/anaconda3/envs/ieee/lib/python3.8/site-packages/xgboost/sklearn.py:1146: UserWarning: The use of label encoder in XGBClassifier is deprecated and will be removed in a future release. To remove this warning, do the following: 1) Pass option use_label_encoder=False when constructing XGBClassifier object; and 2) Encode your labels (y) as integers starting with 0, i.e. 0, 1, 2, ..., [num_class - 1].\n",
      "  warnings.warn(label_encoder_deprecation_msg, UserWarning)\n",
      "\u001b[32m[I 2021-06-20 02:51:08,006]\u001b[0m Trial 1 finished with value: 0.816084641090948 and parameters: {'booster': 'gbtree', 'subsample': 0.673235229154987, 'colsample_bytree': 0.9202230023486417, 'n_estimators': 413, 'scale_pos_weight': 1, 'max_depth': 20, 'min_child_weight': 16.497327922401265, 'learning_rate': 0.004637017332034829}. Best is trial 1 with value: 0.816084641090948.\u001b[0m\n"
     ]
    },
    {
     "name": "stdout",
     "output_type": "stream",
     "text": [
      "Average AUC: 0.816084641090948, Average Accuracy: 0.8756682027649769\n",
      "X shape : (31359, 817), y shape: (31359,)\n"
     ]
    },
    {
     "name": "stderr",
     "output_type": "stream",
     "text": [
      "/opt/anaconda3/envs/ieee/lib/python3.8/site-packages/xgboost/sklearn.py:1146: UserWarning: The use of label encoder in XGBClassifier is deprecated and will be removed in a future release. To remove this warning, do the following: 1) Pass option use_label_encoder=False when constructing XGBClassifier object; and 2) Encode your labels (y) as integers starting with 0, i.e. 0, 1, 2, ..., [num_class - 1].\n",
      "  warnings.warn(label_encoder_deprecation_msg, UserWarning)\n",
      "\u001b[32m[I 2021-06-20 02:53:56,852]\u001b[0m Trial 2 finished with value: 0.7929121322813675 and parameters: {'booster': 'gbtree', 'subsample': 0.5363649934414201, 'colsample_bytree': 0.8366809019706868, 'n_estimators': 291, 'scale_pos_weight': 11, 'max_depth': 17, 'min_child_weight': 14.873687420594125, 'learning_rate': 0.005835558684167139}. Best is trial 1 with value: 0.816084641090948.\u001b[0m\n"
     ]
    },
    {
     "name": "stdout",
     "output_type": "stream",
     "text": [
      "Average AUC: 0.7929121322813675, Average Accuracy: 0.715852534562212\n",
      "X shape : (31308, 817), y shape: (31308,)\n"
     ]
    },
    {
     "name": "stderr",
     "output_type": "stream",
     "text": [
      "/opt/anaconda3/envs/ieee/lib/python3.8/site-packages/xgboost/sklearn.py:1146: UserWarning: The use of label encoder in XGBClassifier is deprecated and will be removed in a future release. To remove this warning, do the following: 1) Pass option use_label_encoder=False when constructing XGBClassifier object; and 2) Encode your labels (y) as integers starting with 0, i.e. 0, 1, 2, ..., [num_class - 1].\n",
      "  warnings.warn(label_encoder_deprecation_msg, UserWarning)\n",
      "\u001b[32m[I 2021-06-20 02:56:50,186]\u001b[0m Trial 3 finished with value: 0.8036646012102445 and parameters: {'booster': 'gbtree', 'subsample': 0.5278987721304084, 'colsample_bytree': 0.8584289297070437, 'n_estimators': 310, 'scale_pos_weight': 10, 'max_depth': 19, 'min_child_weight': 14.599021346475078, 'learning_rate': 0.005542703315240835}. Best is trial 1 with value: 0.816084641090948.\u001b[0m\n"
     ]
    },
    {
     "name": "stdout",
     "output_type": "stream",
     "text": [
      "Average AUC: 0.8036646012102445, Average Accuracy: 0.7369585253456221\n",
      "X shape : (26233, 817), y shape: (26233,)\n"
     ]
    },
    {
     "name": "stderr",
     "output_type": "stream",
     "text": [
      "/opt/anaconda3/envs/ieee/lib/python3.8/site-packages/xgboost/sklearn.py:1146: UserWarning: The use of label encoder in XGBClassifier is deprecated and will be removed in a future release. To remove this warning, do the following: 1) Pass option use_label_encoder=False when constructing XGBClassifier object; and 2) Encode your labels (y) as integers starting with 0, i.e. 0, 1, 2, ..., [num_class - 1].\n",
      "  warnings.warn(label_encoder_deprecation_msg, UserWarning)\n",
      "\u001b[32m[I 2021-06-20 02:59:12,315]\u001b[0m Trial 4 finished with value: 0.8437493160263521 and parameters: {'booster': 'gbtree', 'subsample': 0.6184829137724085, 'colsample_bytree': 0.8092900825439996, 'n_estimators': 382, 'scale_pos_weight': 4, 'max_depth': 14, 'min_child_weight': 16.84665661176, 'learning_rate': 0.006896896099223678}. Best is trial 4 with value: 0.8437493160263521.\u001b[0m\n"
     ]
    },
    {
     "name": "stdout",
     "output_type": "stream",
     "text": [
      "Average AUC: 0.8437493160263521, Average Accuracy: 0.8264516129032258\n",
      "X shape : (27897, 817), y shape: (27897,)\n"
     ]
    },
    {
     "name": "stderr",
     "output_type": "stream",
     "text": [
      "/opt/anaconda3/envs/ieee/lib/python3.8/site-packages/xgboost/sklearn.py:1146: UserWarning: The use of label encoder in XGBClassifier is deprecated and will be removed in a future release. To remove this warning, do the following: 1) Pass option use_label_encoder=False when constructing XGBClassifier object; and 2) Encode your labels (y) as integers starting with 0, i.e. 0, 1, 2, ..., [num_class - 1].\n",
      "  warnings.warn(label_encoder_deprecation_msg, UserWarning)\n",
      "\u001b[32m[I 2021-06-20 03:01:02,897]\u001b[0m Trial 5 finished with value: 0.771939397918877 and parameters: {'booster': 'gbtree', 'subsample': 0.6616794696232922, 'colsample_bytree': 0.8609227538346742, 'n_estimators': 229, 'scale_pos_weight': 14, 'max_depth': 17, 'min_child_weight': 14.366114704534336, 'learning_rate': 0.0054855307303338105}. Best is trial 4 with value: 0.8437493160263521.\u001b[0m\n"
     ]
    },
    {
     "name": "stdout",
     "output_type": "stream",
     "text": [
      "Average AUC: 0.771939397918877, Average Accuracy: 0.6806451612903226\n",
      "X shape : (29691, 817), y shape: (29691,)\n"
     ]
    },
    {
     "name": "stderr",
     "output_type": "stream",
     "text": [
      "/opt/anaconda3/envs/ieee/lib/python3.8/site-packages/xgboost/sklearn.py:1146: UserWarning: The use of label encoder in XGBClassifier is deprecated and will be removed in a future release. To remove this warning, do the following: 1) Pass option use_label_encoder=False when constructing XGBClassifier object; and 2) Encode your labels (y) as integers starting with 0, i.e. 0, 1, 2, ..., [num_class - 1].\n",
      "  warnings.warn(label_encoder_deprecation_msg, UserWarning)\n",
      "\u001b[32m[I 2021-06-20 03:03:26,373]\u001b[0m Trial 6 finished with value: 0.7650297377342645 and parameters: {'booster': 'gbtree', 'subsample': 0.5068777042230437, 'colsample_bytree': 0.9818640804157565, 'n_estimators': 277, 'scale_pos_weight': 14, 'max_depth': 16, 'min_child_weight': 15.560204063533433, 'learning_rate': 0.005640130838029839}. Best is trial 4 with value: 0.8437493160263521.\u001b[0m\n"
     ]
    },
    {
     "name": "stdout",
     "output_type": "stream",
     "text": [
      "Average AUC: 0.7650297377342645, Average Accuracy: 0.6690322580645162\n",
      "X shape : (31228, 817), y shape: (31228,)\n"
     ]
    },
    {
     "name": "stderr",
     "output_type": "stream",
     "text": [
      "/opt/anaconda3/envs/ieee/lib/python3.8/site-packages/xgboost/sklearn.py:1146: UserWarning: The use of label encoder in XGBClassifier is deprecated and will be removed in a future release. To remove this warning, do the following: 1) Pass option use_label_encoder=False when constructing XGBClassifier object; and 2) Encode your labels (y) as integers starting with 0, i.e. 0, 1, 2, ..., [num_class - 1].\n",
      "  warnings.warn(label_encoder_deprecation_msg, UserWarning)\n",
      "\u001b[32m[I 2021-06-20 03:08:03,699]\u001b[0m Trial 7 finished with value: 0.7848658374890133 and parameters: {'booster': 'gbtree', 'subsample': 0.5369708911051054, 'colsample_bytree': 0.9939169255529117, 'n_estimators': 433, 'scale_pos_weight': 19, 'max_depth': 20, 'min_child_weight': 15.793699936433256, 'learning_rate': 0.006765622705069351}. Best is trial 4 with value: 0.8437493160263521.\u001b[0m\n"
     ]
    },
    {
     "name": "stdout",
     "output_type": "stream",
     "text": [
      "Average AUC: 0.7848658374890133, Average Accuracy: 0.6980645161290323\n",
      "X shape : (29459, 817), y shape: (29459,)\n"
     ]
    },
    {
     "name": "stderr",
     "output_type": "stream",
     "text": [
      "/opt/anaconda3/envs/ieee/lib/python3.8/site-packages/xgboost/sklearn.py:1146: UserWarning: The use of label encoder in XGBClassifier is deprecated and will be removed in a future release. To remove this warning, do the following: 1) Pass option use_label_encoder=False when constructing XGBClassifier object; and 2) Encode your labels (y) as integers starting with 0, i.e. 0, 1, 2, ..., [num_class - 1].\n",
      "  warnings.warn(label_encoder_deprecation_msg, UserWarning)\n",
      "\u001b[32m[I 2021-06-20 03:09:35,273]\u001b[0m Trial 8 finished with value: 0.8071802545591523 and parameters: {'booster': 'gbtree', 'subsample': 0.5176985004103839, 'colsample_bytree': 0.8391965724838291, 'n_estimators': 213, 'scale_pos_weight': 7, 'max_depth': 16, 'min_child_weight': 14.814047095321687, 'learning_rate': 0.006486212527455788}. Best is trial 4 with value: 0.8437493160263521.\u001b[0m\n"
     ]
    },
    {
     "name": "stdout",
     "output_type": "stream",
     "text": [
      "Average AUC: 0.8071802545591523, Average Accuracy: 0.7523502304147466\n",
      "X shape : (27996, 817), y shape: (27996,)\n"
     ]
    },
    {
     "name": "stderr",
     "output_type": "stream",
     "text": [
      "/opt/anaconda3/envs/ieee/lib/python3.8/site-packages/xgboost/sklearn.py:1146: UserWarning: The use of label encoder in XGBClassifier is deprecated and will be removed in a future release. To remove this warning, do the following: 1) Pass option use_label_encoder=False when constructing XGBClassifier object; and 2) Encode your labels (y) as integers starting with 0, i.e. 0, 1, 2, ..., [num_class - 1].\n",
      "  warnings.warn(label_encoder_deprecation_msg, UserWarning)\n",
      "\u001b[32m[I 2021-06-20 03:12:23,069]\u001b[0m Trial 9 finished with value: 0.8506812089543815 and parameters: {'booster': 'gbtree', 'subsample': 0.5713506653387178, 'colsample_bytree': 0.8561869019374762, 'n_estimators': 363, 'scale_pos_weight': 3, 'max_depth': 19, 'min_child_weight': 14.223651931039312, 'learning_rate': 0.006960660809801553}. Best is trial 9 with value: 0.8506812089543815.\u001b[0m\n"
     ]
    },
    {
     "name": "stdout",
     "output_type": "stream",
     "text": [
      "Average AUC: 0.8506812089543815, Average Accuracy: 0.8506912442396314\n",
      "Number of finished trials:  10\n",
      "Best trial:\n",
      "  Value: 0.8506812089543815\n",
      "  Params: \n",
      "    booster: gbtree\n",
      "    subsample: 0.5713506653387178\n",
      "    colsample_bytree: 0.8561869019374762\n",
      "    n_estimators: 363\n",
      "    scale_pos_weight: 3\n",
      "    max_depth: 19\n",
      "    min_child_weight: 14.223651931039312\n",
      "    learning_rate: 0.006960660809801553\n"
     ]
    }
   ],
   "source": [
    "optimization_function = partial(objective,X_train=X_train,y_train=y_train, X_valid=X_valid, y_valid=y_valid)\n",
    "sampler = TPESampler(seed=42)  # Make the sampler behave in a deterministic way.\n",
    "study = optuna.create_study(sampler=sampler,direction=\"maximize\")\n",
    "study.optimize(optimization_function,n_trials=10)\n",
    "\n",
    "print(\"Number of finished trials: \", len(study.trials))\n",
    "print(\"Best trial:\")\n",
    "trial = study.best_trial\n",
    "\n",
    "print(\"  Value: {}\".format(trial.value))\n",
    "print(\"  Params: \")\n",
    "params = {}\n",
    "for key, value in trial.params.items():\n",
    "    print(\"    {}: {}\".format(key, value))\n",
    "    params[key] = value\n",
    "\n",
    "#save the best params to a file\n",
    "with open('artifacts/xgboost-params.txt', 'w') as outfile:\n",
    "    json.dump(params, outfile)"
   ]
  },
  {
   "cell_type": "markdown",
   "id": "8ae97a9e-b1d2-480c-8acf-8605e08ba96b",
   "metadata": {},
   "source": [
    "### Retrain the model with the best parameters"
   ]
  },
  {
   "cell_type": "code",
   "execution_count": 8,
   "id": "bee33800-d258-42f0-a73f-d1ad426bf490",
   "metadata": {},
   "outputs": [],
   "source": [
    "with open('artifacts/catboost-params.txt') as json_file:\n",
    "        params = json.load(json_file)"
   ]
  },
  {
   "cell_type": "code",
   "execution_count": 9,
   "id": "7be55f53-b106-43a1-a01d-61dc40428879",
   "metadata": {},
   "outputs": [
    {
     "name": "stderr",
     "output_type": "stream",
     "text": [
      "/opt/anaconda3/envs/ieee/lib/python3.8/site-packages/xgboost/sklearn.py:1146: UserWarning: The use of label encoder in XGBClassifier is deprecated and will be removed in a future release. To remove this warning, do the following: 1) Pass option use_label_encoder=False when constructing XGBClassifier object; and 2) Encode your labels (y) as integers starting with 0, i.e. 0, 1, 2, ..., [num_class - 1].\n",
      "  warnings.warn(label_encoder_deprecation_msg, UserWarning)\n"
     ]
    },
    {
     "name": "stdout",
     "output_type": "stream",
     "text": [
      "[03:12:23] WARNING: /Users/travis/build/dmlc/xgboost/src/learner.cc:573: \n",
      "Parameters: { \"custom_metric\", \"iterations\", \"loss_function\" } might not be used.\n",
      "\n",
      "  This may not be accurate due to some parameters are only used in language bindings but\n",
      "  passed down to XGBoost core.  Or some parameters are not used but slip through this\n",
      "  verification. Please open an issue if you find above cases.\n",
      "\n",
      "\n",
      "Average AUC: 0.8307946535435883, Average Accuracy: 0.8800921658986175\n"
     ]
    }
   ],
   "source": [
    "model = train(params,X_train,y_train,X_valid,y_valid)"
   ]
  },
  {
   "cell_type": "code",
   "execution_count": 10,
   "id": "17c2376b-144b-4f65-8c66-44731764f655",
   "metadata": {},
   "outputs": [
    {
     "data": {
      "text/plain": [
       "0.8307946535435883"
      ]
     },
     "execution_count": 10,
     "metadata": {},
     "output_type": "execute_result"
    }
   ],
   "source": [
    "predictions = model.predict(X_valid)\n",
    "auc_1 = roc_auc_score(y_valid, predictions)\n",
    "auc_1"
   ]
  },
  {
   "cell_type": "markdown",
   "id": "946e7c5d-2cbc-4e91-b7a3-258b7f35ddf7",
   "metadata": {},
   "source": [
    "### Save the model"
   ]
  },
  {
   "cell_type": "code",
   "execution_count": 11,
   "id": "d0ada7e7-7a94-451c-be8c-48db57ee8f0f",
   "metadata": {},
   "outputs": [],
   "source": [
    "model_filename = './artifacts/xgboost-model.pkl'\n",
    "with open(model_filename, 'wb') as model_file:\n",
    "    pickle.dump(model, model_file)"
   ]
  },
  {
   "cell_type": "markdown",
   "id": "3b38892b-0f20-490d-9940-0fe900435fc9",
   "metadata": {},
   "source": [
    "### Analyse the model"
   ]
  },
  {
   "cell_type": "code",
   "execution_count": 12,
   "id": "3b11c4bc-1019-4440-943f-8349ed7cad8e",
   "metadata": {},
   "outputs": [],
   "source": [
    "from explainerdashboard import ClassifierExplainer, InlineExplainer"
   ]
  },
  {
   "cell_type": "code",
   "execution_count": 13,
   "id": "e5234ef1-6405-4467-a7e9-b3a2b463d28e",
   "metadata": {},
   "outputs": [
    {
     "name": "stdout",
     "output_type": "stream",
     "text": [
      "Detected XGBClassifier model: Changing class type to XGBClassifierExplainer...\n",
      "Note: model_output=='probability'. For XGBClassifier shap values normally get calculated against X_background, but paramater X_background=None, so using X instead\n",
      "Generating self.shap_explainer = shap.TreeExplainer(model, X, model_output='probability', feature_perturbation='interventional')...\n",
      "Note: Shap interaction values will not be available. If shap values in probability space are not necessary you can pass model_output='logodds' to get shap values in logodds without the need for a background dataset and also working shap interaction values...\n"
     ]
    }
   ],
   "source": [
    "explainer = ClassifierExplainer(model, X_valid, y_valid)"
   ]
  },
  {
   "cell_type": "code",
   "execution_count": 14,
   "id": "e2b7650d-9c51-4eeb-af13-9c7ee2366b3d",
   "metadata": {},
   "outputs": [],
   "source": [
    "# ie = InlineExplainer(explainer)"
   ]
  },
  {
   "cell_type": "code",
   "execution_count": 15,
   "id": "7bb3f14f-3afe-44fa-9f10-b3e183cc8340",
   "metadata": {
    "tags": []
   },
   "outputs": [],
   "source": [
    "# ie.classifier.confusion_matrix()"
   ]
  },
  {
   "cell_type": "code",
   "execution_count": 16,
   "id": "9fcd4279-61ee-4592-96b6-2707f87a6e49",
   "metadata": {},
   "outputs": [
    {
     "data": {
      "image/png": "[encoded data removed]",
      "text/plain": [
       "<Figure size 432x288 with 2 Axes>"
      ]
     },
     "metadata": {
      "needs_background": "light"
     },
     "output_type": "display_data"
    }
   ],
   "source": [
    "from sklearn.metrics import plot_confusion_matrix\n",
    "import matplotlib.pyplot as plt\n",
    "plot_confusion_matrix(model, X_valid, y_valid)  \n",
    "plt.show()"
   ]
  },
  {
   "cell_type": "code",
   "execution_count": 17,
   "id": "2faacfef-087f-487c-bf07-ea689199ac37",
   "metadata": {},
   "outputs": [],
   "source": [
    "#ie.importances()"
   ]
  },
  {
   "cell_type": "code",
   "execution_count": 18,
   "id": "b7f79e93-86f5-4610-9709-9a79f1a81329",
   "metadata": {},
   "outputs": [
    {
     "name": "stdout",
     "output_type": "stream",
     "text": [
      "Calculating shap values...\n"
     ]
    },
    {
     "name": "stderr",
     "output_type": "stream",
     "text": [
      " 99%|===================| 10758/10850 [00:41<00:00]        "
     ]
    }
   ],
   "source": [
    "df_importances = explainer.get_importances_df()"
   ]
  },
  {
   "cell_type": "code",
   "execution_count": 19,
   "id": "e1158f65-3afc-4336-b4a1-944191b9aea1",
   "metadata": {},
   "outputs": [
    {
     "data": {
      "image/png": "[encoded data removed]",
      "text/plain": [
       "<Figure size 1080x720 with 1 Axes>"
      ]
     },
     "metadata": {
      "needs_background": "light"
     },
     "output_type": "display_data"
    }
   ],
   "source": [
    "import seaborn as sns\n",
    "plt.figure(figsize=(15, 10))\n",
    "ax = sns.barplot(x=\"MEAN_ABS_SHAP\", y=\"Feature\", data=df_importances[:30], orient=\"h\")\n",
    "ax.set_xlim(df_importances[\"MEAN_ABS_SHAP\"].min(), df_importances[\"MEAN_ABS_SHAP\"].max())\n",
    "plt.title('Feature importance')\n",
    "plt.show()"
   ]
  },
  {
   "cell_type": "markdown",
   "id": "400ccf57-083d-4575-868f-026b81313b66",
   "metadata": {},
   "source": [
    "### Retrain the model with only important features and compare it to the model with all features"
   ]
  },
  {
   "cell_type": "code",
   "execution_count": 20,
   "id": "4a383755-461a-4490-be53-e706d69d8eb0",
   "metadata": {},
   "outputs": [],
   "source": [
    "important_cols = df_importances[df_importances['MEAN_ABS_SHAP']>0].Feature.values.tolist()"
   ]
  },
  {
   "cell_type": "code",
   "execution_count": 21,
   "id": "f5d896ac-77f4-4739-9da0-ed143b8502b0",
   "metadata": {},
   "outputs": [
    {
     "name": "stderr",
     "output_type": "stream",
     "text": [
      "The use of label encoder in XGBClassifier is deprecated and will be removed in a future release. To remove this warning, do the following: 1) Pass option use_label_encoder=False when constructing XGBClassifier object; and 2) Encode your labels (y) as integers starting with 0, i.e. 0, 1, 2, ..., [num_class - 1].\n"
     ]
    },
    {
     "name": "stdout",
     "output_type": "stream",
     "text": [
      "[03:13:44] WARNING: /Users/travis/build/dmlc/xgboost/src/learner.cc:573: \n",
      "Parameters: { \"custom_metric\", \"iterations\", \"loss_function\" } might not be used.\n",
      "\n",
      "  This may not be accurate due to some parameters are only used in language bindings but\n",
      "  passed down to XGBoost core.  Or some parameters are not used but slip through this\n",
      "  verification. Please open an issue if you find above cases.\n",
      "\n",
      "\n",
      "Average AUC: 0.8314413614272269, Average Accuracy: 0.8799078341013825\n"
     ]
    }
   ],
   "source": [
    "model2 = train(params, X_train[important_cols], y_train, X_valid[important_cols], y_valid)"
   ]
  },
  {
   "cell_type": "code",
   "execution_count": 22,
   "id": "d526d782-6b71-4e65-b078-c6451dbe6b60",
   "metadata": {},
   "outputs": [
    {
     "data": {
      "text/plain": [
       "0.8314413614272269"
      ]
     },
     "execution_count": 22,
     "metadata": {},
     "output_type": "execute_result"
    }
   ],
   "source": [
    "predictions = model2.predict(X_valid[important_cols])\n",
    "auc_2 = roc_auc_score(y_valid, predictions)\n",
    "auc_2"
   ]
  },
  {
   "cell_type": "markdown",
   "id": "a7b1a548-510f-4d3f-8499-5bf46b0bdee8",
   "metadata": {},
   "source": [
    "### Save important features and useless features so that you can use them later if needed"
   ]
  },
  {
   "cell_type": "code",
   "execution_count": 23,
   "id": "4c62e08e-852d-4e68-8c70-4cdd3ed167b9",
   "metadata": {},
   "outputs": [],
   "source": [
    "not_important_cols = df_importances[df_importances['MEAN_ABS_SHAP']==0].Feature.values.tolist()"
   ]
  },
  {
   "cell_type": "code",
   "execution_count": 24,
   "id": "3944770f-0f86-4b57-a292-f1e54cb3905e",
   "metadata": {},
   "outputs": [],
   "source": [
    "noneNa_not_important_cols = [c.split('_na')[0] for c in not_important_cols]\n",
    "noneNa_important_cols = [c.split('_na')[0] for c in important_cols]"
   ]
  },
  {
   "cell_type": "code",
   "execution_count": 25,
   "id": "9bcafecc-3d88-49e8-8081-1e31e56241d8",
   "metadata": {},
   "outputs": [],
   "source": [
    "useless = set(noneNa_not_important_cols).difference(set(noneNa_important_cols))"
   ]
  },
  {
   "cell_type": "code",
   "execution_count": 26,
   "id": "8f90b345-fbde-4393-b0f2-c2e6f3b48472",
   "metadata": {
    "tags": []
   },
   "outputs": [],
   "source": [
    "feature_imp = {}\n",
    "feature_imp['useless']  = list(useless)\n",
    "feature_imp['important'] = important_cols\n",
    "with open('artifacts/xgboost-feature-importance.txt', 'w') as outfile:\n",
    "    json.dump(feature_imp, outfile)"
   ]
  },
  {
   "cell_type": "markdown",
   "id": "7af061a5-8e68-48b9-a519-87aeb99f7789",
   "metadata": {},
   "source": [
    "## Fit the model to the test set"
   ]
  },
  {
   "cell_type": "code",
   "execution_count": 27,
   "id": "4278525e-149c-409e-b70f-337eae640c33",
   "metadata": {},
   "outputs": [],
   "source": [
    "df_test = pd.read_csv('data/test.csv', low_memory=False)"
   ]
  },
  {
   "cell_type": "code",
   "execution_count": 28,
   "id": "177e4450-00c4-4275-a530-372dd60e9263",
   "metadata": {},
   "outputs": [
    {
     "data": {
      "text/plain": [
       "(506691, 436)"
      ]
     },
     "execution_count": 28,
     "metadata": {},
     "output_type": "execute_result"
    }
   ],
   "source": [
    "df_test.shape"
   ]
  },
  {
   "cell_type": "markdown",
   "id": "d9abfaec-bac6-428e-bc9b-75904be57c89",
   "metadata": {},
   "source": [
    "### Prepocess the test set"
   ]
  },
  {
   "cell_type": "code",
   "execution_count": 29,
   "id": "c7c5723d-9098-4114-a053-b77ca92709f9",
   "metadata": {},
   "outputs": [],
   "source": [
    "with open('artifacts/data-proc.pkl', 'rb') as preproc_file:\n",
    "    preproc = pickle.load(preproc_file)\n",
    "\n",
    "    data_proc = preproc.train.new(df_test)\n",
    "    data_proc.process()"
   ]
  },
  {
   "cell_type": "markdown",
   "id": "2fc93f25-d08a-4872-9fa7-ba0b7b0a6b5a",
   "metadata": {},
   "source": [
    "### Use the model that showed good performance between the model with all features vs the one with only important features"
   ]
  },
  {
   "cell_type": "code",
   "execution_count": 45,
   "id": "4a15f027-54d1-41a5-84a2-62ebb68abf86",
   "metadata": {},
   "outputs": [],
   "source": [
    "if auc_1 < auc_2:\n",
    "    y_test_hat = model2.predict_proba(data_proc.train.xs[important_cols])[:,1]\n",
    "else: \n",
    "    y_test_hat = model.predict_proba(data_proc.train.xs)[:,1]"
   ]
  },
  {
   "cell_type": "code",
   "execution_count": 81,
   "id": "c39c9c94-2b58-4ee1-b79f-5757fbefac0a",
   "metadata": {},
   "outputs": [
    {
     "data": {
      "text/plain": [
       "(506691, 437)"
      ]
     },
     "execution_count": 81,
     "metadata": {},
     "output_type": "execute_result"
    }
   ],
   "source": [
    "df_test.shape"
   ]
  },
  {
   "cell_type": "code",
   "execution_count": 46,
   "id": "61af404e-be84-42a1-b943-d1672c80584d",
   "metadata": {},
   "outputs": [
    {
     "data": {
      "text/plain": [
       "(506691,)"
      ]
     },
     "execution_count": 46,
     "metadata": {},
     "output_type": "execute_result"
    }
   ],
   "source": [
    "y_test_hat.shape"
   ]
  },
  {
   "cell_type": "code",
   "execution_count": 47,
   "id": "9c100d80-4845-4722-a586-c3b6bb223ad0",
   "metadata": {},
   "outputs": [],
   "source": [
    "df_test['isFraud'] = y_test_hat"
   ]
  },
  {
   "cell_type": "code",
   "execution_count": 48,
   "id": "526611df-a5d0-4914-a181-bfc9585578d4",
   "metadata": {},
   "outputs": [
    {
     "data": {
      "text/plain": [
       "False"
      ]
     },
     "execution_count": 48,
     "metadata": {},
     "output_type": "execute_result"
    }
   ],
   "source": [
    "df_test[['TransactionID']].duplicated().any()"
   ]
  },
  {
   "cell_type": "markdown",
   "id": "ef4370c7-7c13-4a1d-88f8-92c20222f0c1",
   "metadata": {},
   "source": [
    "## Submit the result to Kaggle for evaluation"
   ]
  },
  {
   "cell_type": "code",
   "execution_count": 49,
   "id": "306d5390-1e42-4f6f-adff-2ef6c2038a85",
   "metadata": {},
   "outputs": [],
   "source": [
    "df_test[['TransactionID', 'isFraud']].to_csv('data/submission_xgboost_v1.csv', index=False)"
   ]
  },
  {
   "cell_type": "code",
   "execution_count": 50,
   "id": "7a5d08a3-383a-4475-82a1-4efea73ca890",
   "metadata": {},
   "outputs": [
    {
     "name": "stdout",
     "output_type": "stream",
     "text": [
      "100%|██████████████████████████████████████| 9.10M/9.10M [00:09<00:00, 1.03MB/s]\n",
      "Successfully submitted to IEEE-CIS Fraud Detection"
     ]
    }
   ],
   "source": [
    "!kaggle competitions submit -c ieee-fraud-detection -f data/submission_v2.csv -m \"first submission without any deep feature engineering. just using fastai and xgboost\""
   ]
  },
  {
   "cell_type": "code",
   "execution_count": 51,
   "id": "0f49ff09-82c2-4614-bb22-05391d1c664c",
   "metadata": {},
   "outputs": [
    {
     "data": {
      "text/plain": [
       "71"
      ]
     },
     "execution_count": 51,
     "metadata": {},
     "output_type": "execute_result"
    }
   ],
   "source": [
    "import gc\n",
    "gc.collect()"
   ]
  },
  {
   "cell_type": "code",
   "execution_count": null,
   "id": "3a1e2047-8762-4050-addb-2a86b4833f90",
   "metadata": {},
   "outputs": [],
   "source": []
  }
 ],
 "metadata": {
  "kernelspec": {
   "display_name": "Python 3",
   "language": "python",
   "name": "python3"
  },
  "language_info": {
   "codemirror_mode": {
    "name": "ipython",
    "version": 3
   },
   "file_extension": ".py",
   "mimetype": "text/x-python",
   "name": "python",
   "nbconvert_exporter": "python",
   "pygments_lexer": "ipython3",
   "version": "3.8.10"
  }
 },
 "nbformat": 4,
 "nbformat_minor": 5
}
